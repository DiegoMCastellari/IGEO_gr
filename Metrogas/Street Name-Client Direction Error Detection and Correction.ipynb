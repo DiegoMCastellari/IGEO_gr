{
 "cells": [
  {
   "cell_type": "code",
   "execution_count": 1,
   "metadata": {},
   "outputs": [],
   "source": [
    "import pandas as pd\n",
    "import geopandas as gpd\n",
    "import fiona\n",
    "import regex as re"
   ]
  },
  {
   "cell_type": "code",
   "execution_count": 2,
   "metadata": {},
   "outputs": [
    {
     "data": {
      "text/plain": [
       "['Calles']"
      ]
     },
     "execution_count": 2,
     "metadata": {},
     "output_type": "execute_result"
    }
   ],
   "source": [
    "fiona.listlayers('C:/Users/Compumar/Documents/Job/IGEO/2020 - Metrogas - Geocoder/TarifaSocial/Bases_Geo/Geocoding_SanVicente.gdb')"
   ]
  },
  {
   "cell_type": "code",
   "execution_count": 3,
   "metadata": {},
   "outputs": [
    {
     "data": {
      "text/plain": [
       "['AlmiranteBrown',\n",
       " 'Avellaneda',\n",
       " 'Berazategui',\n",
       " 'CABA',\n",
       " 'EEcheverria',\n",
       " 'Ezeiza',\n",
       " 'Florencia',\n",
       " 'Lanus',\n",
       " 'LomasDeZamora',\n",
       " 'PresidentePeron',\n",
       " 'Quilmes',\n",
       " 'SanVicente']"
      ]
     },
     "execution_count": 3,
     "metadata": {},
     "output_type": "execute_result"
    }
   ],
   "source": [
    "fiona.listlayers('C:/Users/Compumar/Documents/Job/IGEO/2020 - Metrogas - Geocoder/TarifaSocial/NoMatch.gdb')"
   ]
  },
  {
   "cell_type": "code",
   "execution_count": 4,
   "metadata": {},
   "outputs": [],
   "source": [
    "Calles = gpd.read_file('C:/Users/Compumar/Documents/Job/IGEO/2020 - Metrogas - Geocoder/TarifaSocial/Bases_Geo/Geocoding_SanVicente.gdb', driver='FileGDB', layer='Calles')"
   ]
  },
  {
   "cell_type": "code",
   "execution_count": 5,
   "metadata": {},
   "outputs": [],
   "source": [
    "CallesNorm = gpd.read_file('C:/Users/Compumar/Documents/Job/IGEO/2020 - Metrogas - Geocoder/TarifaSocial/NoMatch.gdb', driver='FileGDB', layer='SanVicente')"
   ]
  },
  {
   "cell_type": "code",
   "execution_count": 6,
   "metadata": {},
   "outputs": [
    {
     "data": {
      "text/html": [
       "<div>\n",
       "<style scoped>\n",
       "    .dataframe tbody tr th:only-of-type {\n",
       "        vertical-align: middle;\n",
       "    }\n",
       "\n",
       "    .dataframe tbody tr th {\n",
       "        vertical-align: top;\n",
       "    }\n",
       "\n",
       "    .dataframe thead th {\n",
       "        text-align: right;\n",
       "    }\n",
       "</style>\n",
       "<table border=\"1\" class=\"dataframe\">\n",
       "  <thead>\n",
       "    <tr style=\"text-align: right;\">\n",
       "      <th></th>\n",
       "      <th>NOMCALLE</th>\n",
       "      <th>NOMPAR</th>\n",
       "      <th>NOMLOC</th>\n",
       "      <th>NOMBARRIO</th>\n",
       "      <th>DESDDER</th>\n",
       "      <th>DESDIZQ</th>\n",
       "      <th>HASTDER</th>\n",
       "      <th>HASTIZQ</th>\n",
       "      <th>CPADER</th>\n",
       "      <th>CPAIZQ</th>\n",
       "      <th>TIPVIA</th>\n",
       "      <th>Shape_Length</th>\n",
       "      <th>geometry</th>\n",
       "    </tr>\n",
       "  </thead>\n",
       "  <tbody>\n",
       "    <tr>\n",
       "      <th>0</th>\n",
       "      <td>SALTA</td>\n",
       "      <td>SAN VICENTE</td>\n",
       "      <td>ALEJANDRO KORN</td>\n",
       "      <td></td>\n",
       "      <td>200.0</td>\n",
       "      <td>201.0</td>\n",
       "      <td>298.0</td>\n",
       "      <td>299.0</td>\n",
       "      <td>1865</td>\n",
       "      <td>1865</td>\n",
       "      <td>CALLE</td>\n",
       "      <td>124.940219</td>\n",
       "      <td>MULTILINESTRING ((6374287.407 6127991.230, 637...</td>\n",
       "    </tr>\n",
       "    <tr>\n",
       "      <th>1</th>\n",
       "      <td>SAN VICENTE</td>\n",
       "      <td>SAN VICENTE</td>\n",
       "      <td>ALEJANDRO KORN</td>\n",
       "      <td></td>\n",
       "      <td>300.0</td>\n",
       "      <td>301.0</td>\n",
       "      <td>398.0</td>\n",
       "      <td>399.0</td>\n",
       "      <td>1865</td>\n",
       "      <td>1865</td>\n",
       "      <td>CALLE</td>\n",
       "      <td>100.051767</td>\n",
       "      <td>MULTILINESTRING ((6374353.268 6127636.120, 637...</td>\n",
       "    </tr>\n",
       "    <tr>\n",
       "      <th>2</th>\n",
       "      <td>SAN VICENTE</td>\n",
       "      <td>SAN VICENTE</td>\n",
       "      <td>ALEJANDRO KORN</td>\n",
       "      <td></td>\n",
       "      <td>0.0</td>\n",
       "      <td>0.0</td>\n",
       "      <td>0.0</td>\n",
       "      <td>0.0</td>\n",
       "      <td>1865</td>\n",
       "      <td>1865</td>\n",
       "      <td>CALLE</td>\n",
       "      <td>32.607910</td>\n",
       "      <td>MULTILINESTRING ((6374203.012 6127542.611, 637...</td>\n",
       "    </tr>\n",
       "    <tr>\n",
       "      <th>3</th>\n",
       "      <td>SAN VICENTE</td>\n",
       "      <td>SAN VICENTE</td>\n",
       "      <td>ALEJANDRO KORN</td>\n",
       "      <td></td>\n",
       "      <td>0.0</td>\n",
       "      <td>0.0</td>\n",
       "      <td>0.0</td>\n",
       "      <td>0.0</td>\n",
       "      <td>1865</td>\n",
       "      <td>1865</td>\n",
       "      <td>CALLE</td>\n",
       "      <td>116.392432</td>\n",
       "      <td>MULTILINESTRING ((6374076.930 6127464.672, 637...</td>\n",
       "    </tr>\n",
       "    <tr>\n",
       "      <th>4</th>\n",
       "      <td>SAN VICENTE</td>\n",
       "      <td>SAN VICENTE</td>\n",
       "      <td>ALEJANDRO KORN</td>\n",
       "      <td></td>\n",
       "      <td>102.0</td>\n",
       "      <td>101.0</td>\n",
       "      <td>198.0</td>\n",
       "      <td>199.0</td>\n",
       "      <td>1865</td>\n",
       "      <td>1865</td>\n",
       "      <td>CALLE</td>\n",
       "      <td>113.909252</td>\n",
       "      <td>MULTILINESTRING ((6374557.015 6127766.769, 637...</td>\n",
       "    </tr>\n",
       "  </tbody>\n",
       "</table>\n",
       "</div>"
      ],
      "text/plain": [
       "      NOMCALLE       NOMPAR          NOMLOC NOMBARRIO  DESDDER  DESDIZQ  \\\n",
       "0        SALTA  SAN VICENTE  ALEJANDRO KORN              200.0    201.0   \n",
       "1  SAN VICENTE  SAN VICENTE  ALEJANDRO KORN              300.0    301.0   \n",
       "2  SAN VICENTE  SAN VICENTE  ALEJANDRO KORN                0.0      0.0   \n",
       "3  SAN VICENTE  SAN VICENTE  ALEJANDRO KORN                0.0      0.0   \n",
       "4  SAN VICENTE  SAN VICENTE  ALEJANDRO KORN              102.0    101.0   \n",
       "\n",
       "   HASTDER  HASTIZQ CPADER CPAIZQ TIPVIA  Shape_Length  \\\n",
       "0    298.0    299.0   1865   1865  CALLE    124.940219   \n",
       "1    398.0    399.0   1865   1865  CALLE    100.051767   \n",
       "2      0.0      0.0   1865   1865  CALLE     32.607910   \n",
       "3      0.0      0.0   1865   1865  CALLE    116.392432   \n",
       "4    198.0    199.0   1865   1865  CALLE    113.909252   \n",
       "\n",
       "                                            geometry  \n",
       "0  MULTILINESTRING ((6374287.407 6127991.230, 637...  \n",
       "1  MULTILINESTRING ((6374353.268 6127636.120, 637...  \n",
       "2  MULTILINESTRING ((6374203.012 6127542.611, 637...  \n",
       "3  MULTILINESTRING ((6374076.930 6127464.672, 637...  \n",
       "4  MULTILINESTRING ((6374557.015 6127766.769, 637...  "
      ]
     },
     "execution_count": 6,
     "metadata": {},
     "output_type": "execute_result"
    }
   ],
   "source": [
    "Calles.head()"
   ]
  },
  {
   "cell_type": "code",
   "execution_count": 7,
   "metadata": {},
   "outputs": [
    {
     "data": {
      "text/html": [
       "<div>\n",
       "<style scoped>\n",
       "    .dataframe tbody tr th:only-of-type {\n",
       "        vertical-align: middle;\n",
       "    }\n",
       "\n",
       "    .dataframe tbody tr th {\n",
       "        vertical-align: top;\n",
       "    }\n",
       "\n",
       "    .dataframe thead th {\n",
       "        text-align: right;\n",
       "    }\n",
       "</style>\n",
       "<table border=\"1\" class=\"dataframe\">\n",
       "  <thead>\n",
       "    <tr style=\"text-align: right;\">\n",
       "      <th></th>\n",
       "      <th>Id_Usuario</th>\n",
       "      <th>Usuario</th>\n",
       "      <th>Calle</th>\n",
       "      <th>Numero</th>\n",
       "      <th>Piso</th>\n",
       "      <th>Departamento</th>\n",
       "      <th>CodigoPostal</th>\n",
       "      <th>Localidad</th>\n",
       "      <th>PartidoMunicipio</th>\n",
       "      <th>Provincia</th>\n",
       "      <th>geometry</th>\n",
       "    </tr>\n",
       "  </thead>\n",
       "  <tbody>\n",
       "    <tr>\n",
       "      <th>0</th>\n",
       "      <td>3.000022e+10</td>\n",
       "      <td>IRENA CWALINSKA</td>\n",
       "      <td>CAMINO REAL</td>\n",
       "      <td>2064</td>\n",
       "      <td></td>\n",
       "      <td></td>\n",
       "      <td>1864</td>\n",
       "      <td>Alejandro Korn</td>\n",
       "      <td>San Vicente</td>\n",
       "      <td>Buenos Aires</td>\n",
       "      <td>None</td>\n",
       "    </tr>\n",
       "    <tr>\n",
       "      <th>1</th>\n",
       "      <td>3.000556e+10</td>\n",
       "      <td>SUSANA GRACIELA MARILLA</td>\n",
       "      <td>COLOMBRES (ARENALES)</td>\n",
       "      <td>17</td>\n",
       "      <td></td>\n",
       "      <td></td>\n",
       "      <td>1865</td>\n",
       "      <td>San Vicente</td>\n",
       "      <td>San Vicente</td>\n",
       "      <td>Buenos Aires</td>\n",
       "      <td>None</td>\n",
       "    </tr>\n",
       "    <tr>\n",
       "      <th>2</th>\n",
       "      <td>3.000494e+10</td>\n",
       "      <td>CARLOS KAPROILIAN</td>\n",
       "      <td>MATHEU</td>\n",
       "      <td>2090</td>\n",
       "      <td></td>\n",
       "      <td></td>\n",
       "      <td>1865</td>\n",
       "      <td>San Vicente</td>\n",
       "      <td>San Vicente</td>\n",
       "      <td>Buenos Aires</td>\n",
       "      <td>None</td>\n",
       "    </tr>\n",
       "    <tr>\n",
       "      <th>3</th>\n",
       "      <td>3.000090e+10</td>\n",
       "      <td>MIRTA GRACIELA KADELA</td>\n",
       "      <td>RUTA N 210 (H. YRIGOYEN)</td>\n",
       "      <td>27646</td>\n",
       "      <td></td>\n",
       "      <td></td>\n",
       "      <td>1864</td>\n",
       "      <td>Alejandro Korn</td>\n",
       "      <td>San Vicente</td>\n",
       "      <td>Buenos Aires</td>\n",
       "      <td>None</td>\n",
       "    </tr>\n",
       "    <tr>\n",
       "      <th>4</th>\n",
       "      <td>3.000327e+10</td>\n",
       "      <td>FIDENCIA JULIAN</td>\n",
       "      <td>LAS HERAS</td>\n",
       "      <td>1702</td>\n",
       "      <td></td>\n",
       "      <td></td>\n",
       "      <td>1864</td>\n",
       "      <td>Alejandro Korn</td>\n",
       "      <td>San Vicente</td>\n",
       "      <td>Buenos Aires</td>\n",
       "      <td>None</td>\n",
       "    </tr>\n",
       "  </tbody>\n",
       "</table>\n",
       "</div>"
      ],
      "text/plain": [
       "     Id_Usuario                  Usuario                     Calle Numero  \\\n",
       "0  3.000022e+10          IRENA CWALINSKA               CAMINO REAL   2064   \n",
       "1  3.000556e+10  SUSANA GRACIELA MARILLA      COLOMBRES (ARENALES)     17   \n",
       "2  3.000494e+10        CARLOS KAPROILIAN                    MATHEU   2090   \n",
       "3  3.000090e+10    MIRTA GRACIELA KADELA  RUTA N 210 (H. YRIGOYEN)  27646   \n",
       "4  3.000327e+10          FIDENCIA JULIAN                 LAS HERAS   1702   \n",
       "\n",
       "  Piso Departamento  CodigoPostal       Localidad PartidoMunicipio  \\\n",
       "0                            1864  Alejandro Korn      San Vicente   \n",
       "1                            1865     San Vicente      San Vicente   \n",
       "2                            1865     San Vicente      San Vicente   \n",
       "3                            1864  Alejandro Korn      San Vicente   \n",
       "4                            1864  Alejandro Korn      San Vicente   \n",
       "\n",
       "      Provincia geometry  \n",
       "0  Buenos Aires     None  \n",
       "1  Buenos Aires     None  \n",
       "2  Buenos Aires     None  \n",
       "3  Buenos Aires     None  \n",
       "4  Buenos Aires     None  "
      ]
     },
     "execution_count": 7,
     "metadata": {},
     "output_type": "execute_result"
    }
   ],
   "source": [
    "CallesNorm.head()"
   ]
  },
  {
   "cell_type": "code",
   "execution_count": 8,
   "metadata": {},
   "outputs": [
    {
     "data": {
      "text/plain": [
       "397"
      ]
     },
     "execution_count": 8,
     "metadata": {},
     "output_type": "execute_result"
    }
   ],
   "source": [
    "# size of correct streets\n",
    "len(Calles['NOMCALLE'].unique())"
   ]
  },
  {
   "cell_type": "code",
   "execution_count": 9,
   "metadata": {},
   "outputs": [
    {
     "data": {
      "text/plain": [
       "138"
      ]
     },
     "execution_count": 9,
     "metadata": {},
     "output_type": "execute_result"
    }
   ],
   "source": [
    "# size of name to check/correct\n",
    "len(CallesNorm['Calle'].unique())"
   ]
  },
  {
   "cell_type": "code",
   "execution_count": 10,
   "metadata": {},
   "outputs": [],
   "source": [
    "# Calles.to_file('C:/Users/Compumar/Documents/Job/IGEO/2020 - Metrogas - Geocoder/TarifaSocial/AvellanedaCalles.geojson', driver='GeoJSON')\n",
    "# CallesNorm.to_file('C:/Users/Compumar/Documents/Job/IGEO/2020 - Metrogas - Geocoder/TarifaSocial/AlmBrownNoMatch.geojson', driver='GeoJSON')"
   ]
  },
  {
   "cell_type": "markdown",
   "metadata": {},
   "source": [
    "# Reemplazo automático por búsqueda"
   ]
  },
  {
   "cell_type": "code",
   "execution_count": 11,
   "metadata": {},
   "outputs": [],
   "source": [
    "# Create a new field with a standar null string value \n",
    "CallesNorm['CALLE_NEW'] = 'Nulo'\n",
    "CallesNorm['CALLE_STATE'] = 'Nulo'"
   ]
  },
  {
   "cell_type": "markdown",
   "metadata": {},
   "source": [
    "### Street's names with ("
   ]
  },
  {
   "cell_type": "code",
   "execution_count": 12,
   "metadata": {},
   "outputs": [
    {
     "data": {
      "text/plain": [
       "array(['COLOMBRES (ARENALES)', 'RUTA N 210 (H. YRIGOYEN)',\n",
       "       '12 DE OCTUBRE (EX 17 DE OCTUBR', 'LIBERTAD (DEWEY)',\n",
       "       'TRIUNVIRATO (R. WALSH)', 'PERON J. D., PTE.(BV.DE MAYO)',\n",
       "       'SERRANO ( LORENZO MIGUEL)', 'MAFFIA PEDRO (EX CONSTITUCION)'],\n",
       "      dtype=object)"
      ]
     },
     "execution_count": 12,
     "metadata": {},
     "output_type": "execute_result"
    }
   ],
   "source": [
    "# Select all street with a parentesis \"(\", and get unique street names\n",
    "# This street are the ones that changed their names, so it could appear in one or the other way\n",
    "DobleNombres = CallesNorm[CallesNorm['Calle'].str.contains('\\(')]['Calle'].unique()\n",
    "DobleNombres"
   ]
  },
  {
   "cell_type": "code",
   "execution_count": 13,
   "metadata": {},
   "outputs": [],
   "source": [
    "# loop over this names and change the new field names to \"to be checked\"\n",
    "for i in range(0, len(DobleNombres)):\n",
    "    Nombre_Calle =DobleNombres[i]\n",
    "    CallesNorm.loc[CallesNorm.Calle == Nombre_Calle, 'CALLE_NEW'] = 'Chequear'\n",
    "    CallesNorm.loc[CallesNorm.Calle == Nombre_Calle, 'CALLE_STATE'] = 'Chequear'"
   ]
  },
  {
   "cell_type": "markdown",
   "metadata": {},
   "source": [
    "### Street's names with \"EX\" word"
   ]
  },
  {
   "cell_type": "code",
   "execution_count": 14,
   "metadata": {},
   "outputs": [
    {
     "data": {
      "text/plain": [
       "array(['12 DE OCTUBRE (EX 17 DE OCTUBR', 'MAFFIA PEDRO (EX CONSTITUCION)'],\n",
       "      dtype=object)"
      ]
     },
     "execution_count": 14,
     "metadata": {},
     "output_type": "execute_result"
    }
   ],
   "source": [
    "# Select all street with a parentesis \"EX\", and get unique street names\n",
    "# This street are the ones that changed their names, so it could appear in one or the other way\n",
    "EXNombres = CallesNorm[CallesNorm['Calle'].str.contains('EX')]['Calle'].unique()\n",
    "EXNombres"
   ]
  },
  {
   "cell_type": "code",
   "execution_count": 15,
   "metadata": {},
   "outputs": [],
   "source": [
    "for i in range(0, len(EXNombres)):\n",
    "    Nombre_Calle = EXNombres[i]\n",
    "    CallesNorm.loc[CallesNorm.Calle == Nombre_Calle, 'CALLE_NEW'] = 'Chequear'\n",
    "    CallesNorm.loc[CallesNorm.Calle == Nombre_Calle, 'CALLE_STATE'] = 'Chequear'"
   ]
  },
  {
   "cell_type": "code",
   "execution_count": 16,
   "metadata": {},
   "outputs": [
    {
     "data": {
      "text/plain": [
       "8"
      ]
     },
     "execution_count": 16,
     "metadata": {},
     "output_type": "execute_result"
    }
   ],
   "source": [
    "len(CallesNorm.loc[CallesNorm['CALLE_NEW'] == 'Chequear', 'Calle'].unique())"
   ]
  },
  {
   "cell_type": "markdown",
   "metadata": {},
   "source": [
    "### Loop names"
   ]
  },
  {
   "cell_type": "markdown",
   "metadata": {},
   "source": [
    "#### Search exact name match"
   ]
  },
  {
   "cell_type": "code",
   "execution_count": 17,
   "metadata": {},
   "outputs": [],
   "source": [
    "# Select the names of streets still not corrected\n",
    "Nombres_Calles = CallesNorm.loc[CallesNorm.CALLE_NEW == 'Nulo', 'Calle'].unique()\n",
    "\n",
    "# loop over them\n",
    "for i in range(0, len(Nombres_Calles)):\n",
    "    \n",
    "    # Select a name\n",
    "    Nombre_Calle = Nombres_Calles[i]\n",
    "    Nombre_Calle_N = Nombres_Calles[i]\n",
    "    \n",
    "    # replace Ñ by N\n",
    "    if(Nombre_Calle_N.find('Ñ')>=0):\n",
    "        Nombre_Calle_N = Nombre_Calle_N.replace('Ñ', 'N')\n",
    "            \n",
    "    if(Nombre_Calle_N.find('-')>=0):\n",
    "        Nombre_Calle_N = Nombre_Calle_N.split('-')\n",
    "        Nombre_Calle_N = Nombre_Calle_N[-1]\n",
    "        Nombre_Calle_N = Nombre_Calle_N.split()\n",
    "        Nombre_Calle_N = ' '.join(Nombre_Calle_N)\n",
    "    \n",
    "    # search if the street's name is in the correct street layer\n",
    "    if(len(Calles.loc[Calles.NOMCALLE ==  Nombre_Calle_N])!=0):\n",
    "        b = [Nombre_Calle_N]\n",
    "    # esle try to find the word in the name of the correct street layer\n",
    "    else:\n",
    "        b = Calles[Calles['NOMCALLE'].str.contains(Nombre_Calle_N)]['NOMCALLE'].unique()\n",
    "        \n",
    "    if(len(b)==1):   # if one coincidence, set the value to this name \n",
    "        CallesNorm.loc[CallesNorm.Calle == Nombre_Calle, 'CALLE_NEW'] = b[0]\n",
    "        CallesNorm.loc[CallesNorm.Calle == Nombre_Calle, 'CALLE_STATE'] = 'Check'\n",
    "    elif(len(b)>1):   # if more than one coincidence, set the value to 'many'\n",
    "        CallesNorm.loc[CallesNorm.Calle == Nombre_Calle, 'CALLE_NEW'] = ' / '.join(list(b))\n",
    "        CallesNorm.loc[CallesNorm.Calle == Nombre_Calle, 'CALLE_STATE'] = 'Varios'\n",
    "    else:    # If no coincidence, set value to null string\n",
    "        CallesNorm.loc[CallesNorm.Calle == Nombre_Calle, 'CALLE_NEW'] = 'Nulo'\n",
    "        CallesNorm.loc[CallesNorm.Calle == Nombre_Calle, 'CALLE_STATE'] = 'Nulo'"
   ]
  },
  {
   "cell_type": "code",
   "execution_count": 18,
   "metadata": {},
   "outputs": [
    {
     "name": "stdout",
     "output_type": "stream",
     "text": [
      "Check: 80\n",
      "Nulls: 47\n",
      "Varios: 3\n"
     ]
    }
   ],
   "source": [
    "print('Check:', len(CallesNorm.loc[CallesNorm['CALLE_STATE'] == 'Check', 'Calle'].unique()))\n",
    "print('Nulls:', len(CallesNorm.loc[CallesNorm['CALLE_STATE'] == 'Nulo', 'Calle'].unique()))\n",
    "print('Varios:', len(CallesNorm.loc[CallesNorm['CALLE_STATE'] == 'Varios', 'Calle'].unique()))"
   ]
  },
  {
   "cell_type": "markdown",
   "metadata": {},
   "source": [
    "#### Search exact name match, first word at the end"
   ]
  },
  {
   "cell_type": "code",
   "execution_count": 19,
   "metadata": {},
   "outputs": [],
   "source": [
    "# Select the names of streets still not corrected\n",
    "Nombres_Calles = CallesNorm.loc[CallesNorm.CALLE_NEW == 'Nulo', 'Calle'].unique()\n",
    "\n",
    "# loop over them\n",
    "for i in range(0, len(Nombres_Calles)):\n",
    "    \n",
    "    # Select a name\n",
    "    Nombre_Calle = Nombres_Calles[i]\n",
    "    \n",
    "    x_calle = Nombre_Calle.replace(',', ' ')\n",
    "    x_calle = x_calle.replace('.', ' ')\n",
    "    # replace Ñ by N\n",
    "    if(x_calle.find('Ñ')>=0):\n",
    "        x_calle = x_calle.replace('Ñ', 'N')\n",
    "        \n",
    "    if(x_calle.find('-')>=0):\n",
    "        x_calle = x_calle.split('-')\n",
    "        x_calle = x_calle[-1]\n",
    "        x_calle = x_calle.split()\n",
    "        x_calle = ' '.join(x_calle)\n",
    "        \n",
    "    x_calle= x_calle.split()\n",
    "    x_calle = ' '.join(x_calle[1:]) + ' ' + x_calle[0]\n",
    "    \n",
    "    # search if the street's name is in the correct street layer\n",
    "    if(len(Calles.loc[Calles.NOMCALLE ==  x_calle])!=0):\n",
    "        b = [x_calle]\n",
    "    # esle try to find the word in the name of the correct street layer\n",
    "    else:\n",
    "        b = Calles[Calles['NOMCALLE'].str.contains(x_calle)]['NOMCALLE'].unique()\n",
    "        \n",
    "    if(len(b)==1):   # if one coincidence, set the value to this name \n",
    "        CallesNorm.loc[CallesNorm.Calle == Nombre_Calle, 'CALLE_NEW'] = b[0]\n",
    "        CallesNorm.loc[CallesNorm.Calle == Nombre_Calle, 'CALLE_STATE'] = 'Check'\n",
    "    elif(len(b)>1):   # if more than one coincidence, set the value to 'many'\n",
    "        CallesNorm.loc[CallesNorm.Calle == Nombre_Calle, 'CALLE_NEW'] = ' / '.join(list(b))\n",
    "        CallesNorm.loc[CallesNorm.Calle == Nombre_Calle, 'CALLE_STATE'] = 'Varios'\n",
    "    else:    # If no coincidence, set value to null string\n",
    "        CallesNorm.loc[CallesNorm.Calle == Nombre_Calle, 'CALLE_NEW'] = 'Nulo'\n",
    "        CallesNorm.loc[CallesNorm.Calle == Nombre_Calle, 'CALLE_STATE'] = 'Nulo'"
   ]
  },
  {
   "cell_type": "code",
   "execution_count": 20,
   "metadata": {},
   "outputs": [
    {
     "name": "stdout",
     "output_type": "stream",
     "text": [
      "Check: 91\n",
      "Nulls: 36\n",
      "Varios: 3\n"
     ]
    }
   ],
   "source": [
    "print('Check:', len(CallesNorm.loc[CallesNorm['CALLE_STATE'] == 'Check', 'Calle'].unique()))\n",
    "print('Nulls:', len(CallesNorm.loc[CallesNorm['CALLE_STATE'] == 'Nulo', 'Calle'].unique()))\n",
    "print('Varios:', len(CallesNorm.loc[CallesNorm['CALLE_STATE'] == 'Varios', 'Calle'].unique()))"
   ]
  },
  {
   "cell_type": "markdown",
   "metadata": {},
   "source": [
    "#### Search for splited names match - all words of the name coincidence ('PCIA. BS. AS.' => 'PCIA' + 'BS' + 'AS') "
   ]
  },
  {
   "cell_type": "code",
   "execution_count": 21,
   "metadata": {},
   "outputs": [],
   "source": [
    "# Select the names of streets still not corrected\n",
    "Nombres_Calles = CallesNorm.loc[CallesNorm.CALLE_NEW == 'Nulo', 'Calle'].unique()\n",
    "\n",
    "# loop over them\n",
    "for i in range(0, len(Nombres_Calles)):\n",
    "    Nombre_Calle = Nombres_Calles[i]\n",
    "    \n",
    "    # replace . and , by space\n",
    "    Nombre_Calle_Split = Nombre_Calle.replace(',', ' ')\n",
    "    Nombre_Calle_Split = Nombre_Calle_Split.replace('.', ' ')\n",
    "    # replace Ñ by N\n",
    "    if(Nombre_Calle_Split.find('Ñ')>=0):\n",
    "        Nombre_Calle_Split = Nombre_Calle_Split.replace('Ñ', 'N')\n",
    "    \n",
    "    # delete number to take name ('15 - San Martin' => 'San Martin')\n",
    "    if(Nombre_Calle_Split.find('-')>=0):\n",
    "        Nombre_Calle_Split = Nombre_Calle_Split.split('-')\n",
    "        Nombre_Calle_Split = Nombre_Calle_Split[-1]\n",
    "        Nombre_Calle_Split = Nombre_Calle_Split.split()\n",
    "        Nombre_Calle_Split = ' '.join(Nombre_Calle_Split)\n",
    "    \n",
    "    Nombre_Calle_Split = Nombre_Calle_Split.split()\n",
    "    \n",
    "    # if the name has two word (usually names)\n",
    "    if (len(Nombre_Calle_Split)==2):\n",
    "        b = Calles[(Calles['NOMCALLE'].str.contains(Nombre_Calle_Split[0])) & (Calles['NOMCALLE'].str.contains(Nombre_Calle_Split[1]))]['NOMCALLE'].unique()\n",
    "    elif (len(Nombre_Calle_Split)==3):\n",
    "        b = Calles[(Calles['NOMCALLE'].str.contains(Nombre_Calle_Split[0])) & (Calles['NOMCALLE'].str.contains(Nombre_Calle_Split[1])) & (Calles['NOMCALLE'].str.contains(Nombre_Calle_Split[2]))]['NOMCALLE'].unique()\n",
    "    elif (len(Nombre_Calle_Split)==4):\n",
    "        b = Calles[(Calles['NOMCALLE'].str.contains(Nombre_Calle_Split[0])) & (Calles['NOMCALLE'].str.contains(Nombre_Calle_Split[1])) & (Calles['NOMCALLE'].str.contains(Nombre_Calle_Split[2])) & (Calles['NOMCALLE'].str.contains(Nombre_Calle_Split[3]))]['NOMCALLE'].unique()\n",
    "    \n",
    "    if ((len(Nombre_Calle_Split)>=2) & (len(Nombre_Calle_Split)<=4)):\n",
    "        if(len(b)==1):   # if one coincidence, set the value to this name \n",
    "            CallesNorm.loc[CallesNorm.Calle == Nombre_Calle, 'CALLE_NEW'] = b[0]\n",
    "            CallesNorm.loc[CallesNorm.Calle == Nombre_Calle, 'CALLE_STATE'] = 'Check'\n",
    "        elif(len(b)>1):   # if more than one coincidence, set the value to 'many'\n",
    "            CallesNorm.loc[CallesNorm.Calle == Nombre_Calle, 'CALLE_NEW'] = ' / '.join(list(b))\n",
    "            CallesNorm.loc[CallesNorm.Calle == Nombre_Calle, 'CALLE_STATE'] = 'Varios'\n",
    "        else:    # If no coincidence, set value to null string\n",
    "            CallesNorm.loc[CallesNorm.Calle == Nombre_Calle, 'CALLE_NEW'] = 'Nulo'\n",
    "            CallesNorm.loc[CallesNorm.Calle == Nombre_Calle, 'CALLE_STATE'] = 'Nulo'"
   ]
  },
  {
   "cell_type": "code",
   "execution_count": 22,
   "metadata": {},
   "outputs": [
    {
     "name": "stdout",
     "output_type": "stream",
     "text": [
      "Check: 102\n",
      "Nulls: 24\n",
      "Varios: 4\n"
     ]
    }
   ],
   "source": [
    "print('Check:', len(CallesNorm.loc[CallesNorm['CALLE_STATE'] == 'Check', 'Calle'].unique()))\n",
    "print('Nulls:', len(CallesNorm.loc[CallesNorm['CALLE_STATE'] == 'Nulo', 'Calle'].unique()))\n",
    "print('Varios:', len(CallesNorm.loc[CallesNorm['CALLE_STATE'] == 'Varios', 'Calle'].unique()))"
   ]
  },
  {
   "cell_type": "markdown",
   "metadata": {},
   "source": [
    "#### Search for inverted names match - two words (invert name and surname)"
   ]
  },
  {
   "cell_type": "code",
   "execution_count": 23,
   "metadata": {},
   "outputs": [],
   "source": [
    "# Select the names of streets still not corrected\n",
    "Nombres_Calles = CallesNorm.loc[CallesNorm.CALLE_NEW == 'Nulo', 'Calle'].unique()\n",
    "\n",
    "# loop over them\n",
    "for i in range(0, len(Nombres_Calles)):\n",
    "    Nombre_Calle = Nombres_Calles[i]\n",
    "    \n",
    "    # Delete comas and dots\n",
    "    Nombre_Calle_Inv = Nombre_Calle.replace(',', ' ')\n",
    "    Nombre_Calle_Inv = Nombre_Calle_Inv.replace('.', ' ')\n",
    "    # change Ñ by N\n",
    "    if(Nombre_Calle_Inv.find('Ñ')>=0):\n",
    "        Nombre_Calle_Inv = Nombre_Calle_Inv.replace('Ñ', 'N')\n",
    "        \n",
    "    # delete number to take name ('15 - San Martin' => 'San Martin')\n",
    "    if(Nombre_Calle_Inv.find('-')>=0):\n",
    "        Nombre_Calle_Inv = Nombre_Calle_Inv.split('-')\n",
    "        Nombre_Calle_Inv = Nombre_Calle_Inv[-1]\n",
    "        Nombre_Calle_Inv = Nombre_Calle_Inv.split()\n",
    "        Nombre_Calle_Inv = ' '.join(Nombre_Calle_Inv)\n",
    "    \n",
    "    # if the name has two word (usually names)\n",
    "    if (len(Nombre_Calle_Inv.split())==2):\n",
    "        # Invert the name ('OLARRA JOSE' => 'JOSE OLARRA')\n",
    "        Nombre_Calle_Inv= Nombre_Calle_Inv.split()[1] + ' ' + Nombre_Calle_Inv.split()[0]\n",
    "        \n",
    "        # Repeat previos process\n",
    "        # search if the street's name is in the correct street layer\n",
    "        if(len(Calles.loc[Calles.NOMCALLE ==  Nombre_Calle_Inv])!=0):\n",
    "            b = [Nombre_Calle]\n",
    "        # esle try to find the word in the name of the correct street layer\n",
    "        else:\n",
    "            b = Calles[Calles['NOMCALLE'].str.contains(Nombre_Calle_Inv)]['NOMCALLE'].unique()\n",
    "\n",
    "        if(len(b)==1):   # if one coincidence, set the value to this name \n",
    "            CallesNorm.loc[CallesNorm.Calle == Nombre_Calle, 'CALLE_NEW'] = b[0]\n",
    "            CallesNorm.loc[CallesNorm.Calle == Nombre_Calle, 'CALLE_STATE'] = 'Check'\n",
    "        elif(len(b)>1):   # if more than one coincidence, set the value to 'many'\n",
    "            CallesNorm.loc[CallesNorm.Calle == Nombre_Calle, 'CALLE_NEW'] = ' / '.join(list(b))\n",
    "            CallesNorm.loc[CallesNorm.Calle == Nombre_Calle, 'CALLE_STATE'] = 'Varios'\n",
    "        else:    # If no coincidence, set value to null string\n",
    "            CallesNorm.loc[CallesNorm.Calle == Nombre_Calle, 'CALLE_NEW'] = 'Nulo'\n",
    "            CallesNorm.loc[CallesNorm.Calle == Nombre_Calle, 'CALLE_STATE'] = 'Nulo'"
   ]
  },
  {
   "cell_type": "code",
   "execution_count": 24,
   "metadata": {},
   "outputs": [
    {
     "name": "stdout",
     "output_type": "stream",
     "text": [
      "Check: 102\n",
      "Nulls: 24\n",
      "Varios: 4\n"
     ]
    }
   ],
   "source": [
    "print('Check:', len(CallesNorm.loc[CallesNorm['CALLE_STATE'] == 'Check', 'Calle'].unique()))\n",
    "print('Nulls:', len(CallesNorm.loc[CallesNorm['CALLE_STATE'] == 'Nulo', 'Calle'].unique()))\n",
    "print('Varios:', len(CallesNorm.loc[CallesNorm['CALLE_STATE'] == 'Varios', 'Calle'].unique()))"
   ]
  },
  {
   "cell_type": "markdown",
   "metadata": {},
   "source": [
    "#### Search for two longest words in the names match "
   ]
  },
  {
   "cell_type": "code",
   "execution_count": 25,
   "metadata": {},
   "outputs": [],
   "source": [
    "# Select the names of streets still not corrected\n",
    "Nombres_Calles = CallesNorm.loc[CallesNorm.CALLE_NEW == 'Nulo', 'Calle'].unique()\n",
    "\n",
    "# loop over them\n",
    "for i in range(0, len(Nombres_Calles)):\n",
    "    Nombre_Calle = Nombres_Calles[i]\n",
    "    \n",
    "     # change Ñ by N\n",
    "    Nombre_Calle_FT = Nombre_Calle.replace(',', ' ')\n",
    "    Nombre_Calle_FT = Nombre_Calle_FT.replace('.', ' ') \n",
    "    if(Nombre_Calle_FT.find('Ñ')>=0):\n",
    "        Nombre_Calle_FT = Nombre_Calle.replace('Ñ', 'N')\n",
    "        \n",
    "    # delete number to take name ('15 - San Martin' => 'San Martin')\n",
    "    if(Nombre_Calle_FT.find('-')>=0):\n",
    "        Nombre_Calle_FT = Nombre_Calle_FT.split('-')\n",
    "        Nombre_Calle_FT = Nombre_Calle_FT[-1]\n",
    "        Nombre_Calle_FT = Nombre_Calle_FT.split()\n",
    "        Nombre_Calle_FT = ' '.join(Nombre_Calle_FT)\n",
    "        \n",
    "    # Take the first word of the name\n",
    "    Nombre_Calle_FT = Nombre_Calle_FT.split()\n",
    "    Nombre_Calle_FT.sort(key=len, reverse=True)\n",
    "    \n",
    "    # If name has more than three letters\n",
    "    if(len(Nombre_Calle_FT) >= 2):\n",
    "        Nombre_Calle_FT = Nombre_Calle_FT[0:2]\n",
    "        b = Calles[(Calles['NOMCALLE'].str.contains(Nombre_Calle_FT[0])) & (Calles['NOMCALLE'].str.contains(Nombre_Calle_FT[1]))]['NOMCALLE'].unique()\n",
    "\n",
    "        if(len(b)==1):   # if one coincidence, set the value to this name \n",
    "            CallesNorm.loc[CallesNorm.Calle == Nombre_Calle, 'CALLE_NEW'] = b[0]\n",
    "            CallesNorm.loc[CallesNorm.Calle == Nombre_Calle, 'CALLE_STATE'] = 'Check'\n",
    "        elif(len(b)>1):   # if more than one coincidence, set the value to 'many'\n",
    "            CallesNorm.loc[CallesNorm.Calle == Nombre_Calle, 'CALLE_NEW'] = ' / '.join(list(b))\n",
    "            CallesNorm.loc[CallesNorm.Calle == Nombre_Calle, 'CALLE_STATE'] = 'Varios'\n",
    "        else:    # If no coincidence, set value to null string\n",
    "            CallesNorm.loc[CallesNorm.Calle == Nombre_Calle, 'CALLE_NEW'] = 'Nulo'\n",
    "            CallesNorm.loc[CallesNorm.Calle == Nombre_Calle, 'CALLE_STATE'] = 'Nulo'"
   ]
  },
  {
   "cell_type": "code",
   "execution_count": 26,
   "metadata": {},
   "outputs": [
    {
     "name": "stdout",
     "output_type": "stream",
     "text": [
      "Check: 102\n",
      "Nulls: 23\n",
      "Varios: 5\n"
     ]
    }
   ],
   "source": [
    "print('Check:', len(CallesNorm.loc[CallesNorm['CALLE_STATE'] == 'Check', 'Calle'].unique()))\n",
    "print('Nulls:', len(CallesNorm.loc[CallesNorm['CALLE_STATE'] == 'Nulo', 'Calle'].unique()))\n",
    "print('Varios:', len(CallesNorm.loc[CallesNorm['CALLE_STATE'] == 'Varios', 'Calle'].unique()))"
   ]
  },
  {
   "cell_type": "markdown",
   "metadata": {},
   "source": [
    "#### Search for first word names match  (longer than three letters)"
   ]
  },
  {
   "cell_type": "code",
   "execution_count": 27,
   "metadata": {},
   "outputs": [],
   "source": [
    "# Select the names of streets still not corrected\n",
    "Nombres_Calles = CallesNorm.loc[CallesNorm.CALLE_NEW == 'Nulo', 'Calle'].unique()\n",
    "\n",
    "# loop over them\n",
    "for i in range(0, len(Nombres_Calles)):\n",
    "    Nombre_Calle = Nombres_Calles[i]\n",
    "    \n",
    "    Nombre_Calle_Inv = Nombre_Calle.replace(',', ' ')\n",
    "    Nombre_Calle_Inv = Nombre_Calle_Inv.replace('.', ' ')\n",
    "     # change Ñ by N\n",
    "    if(Nombre_Calle_Inv.find('Ñ')>=0):\n",
    "        Nombre_Calle_Inv = Nombre_Calle_Inv.replace('Ñ', 'N')\n",
    "        \n",
    "    if(Nombre_Calle_Inv.find('-')>=0):\n",
    "        Nombre_Calle_Inv = Nombre_Calle_Inv.split('-')\n",
    "        Nombre_Calle_Inv = Nombre_Calle_Inv[-1]\n",
    "        Nombre_Calle_Inv = Nombre_Calle_Inv.split()\n",
    "        Nombre_Calle_Inv = ' '.join(Nombre_Calle_Inv)\n",
    "        \n",
    "    # Take the first word of the name\n",
    "    Nombre_Calle_Inv = Nombre_Calle.split()[0]\n",
    "    \n",
    "    # If name has more than three letters\n",
    "    if(len(Nombre_Calle_Inv) >3):\n",
    "        b = Calles[Calles['NOMCALLE'].str.contains(Nombre_Calle_Inv)]['NOMCALLE'].unique()\n",
    "\n",
    "        if(len(b)==1):   # if one coincidence, set the value to this name \n",
    "            CallesNorm.loc[CallesNorm.Calle == Nombre_Calle, 'CALLE_NEW'] = b[0]\n",
    "            CallesNorm.loc[CallesNorm.Calle == Nombre_Calle, 'CALLE_STATE'] = 'Check'\n",
    "        elif(len(b)>1):   # if more than one coincidence, set the value to 'many'\n",
    "            CallesNorm.loc[CallesNorm.Calle == Nombre_Calle, 'CALLE_NEW'] = ' / '.join(list(b))\n",
    "            CallesNorm.loc[CallesNorm.Calle == Nombre_Calle, 'CALLE_STATE'] = 'Varios'\n",
    "        else:    # If no coincidence, set value to null string\n",
    "            CallesNorm.loc[CallesNorm.Calle == Nombre_Calle, 'CALLE_NEW'] = 'Nulo'\n",
    "            CallesNorm.loc[CallesNorm.Calle == Nombre_Calle, 'CALLE_STATE'] = 'Nulo'"
   ]
  },
  {
   "cell_type": "code",
   "execution_count": 28,
   "metadata": {},
   "outputs": [
    {
     "name": "stdout",
     "output_type": "stream",
     "text": [
      "Check: 107\n",
      "Nulls: 15\n",
      "Varios: 8\n"
     ]
    }
   ],
   "source": [
    "print('Check:', len(CallesNorm.loc[CallesNorm['CALLE_STATE'] == 'Check', 'Calle'].unique()))\n",
    "print('Nulls:', len(CallesNorm.loc[CallesNorm['CALLE_STATE'] == 'Nulo', 'Calle'].unique()))\n",
    "print('Varios:', len(CallesNorm.loc[CallesNorm['CALLE_STATE'] == 'Varios', 'Calle'].unique()))"
   ]
  },
  {
   "cell_type": "markdown",
   "metadata": {},
   "source": [
    "#### Search for the longest words in the names match "
   ]
  },
  {
   "cell_type": "code",
   "execution_count": 29,
   "metadata": {},
   "outputs": [],
   "source": [
    "# Select the names of streets still not corrected\n",
    "Nombres_Calles = CallesNorm.loc[CallesNorm.CALLE_NEW == 'Nulo', 'Calle'].unique()\n",
    "\n",
    "# loop over them\n",
    "for i in range(0, len(Nombres_Calles)):\n",
    "    Nombre_Calle = Nombres_Calles[i]\n",
    "    \n",
    "     # change Ñ by N\n",
    "    Nombre_Calle_FT = Nombre_Calle.replace(',', ' ')\n",
    "    Nombre_Calle_FT = Nombre_Calle_FT.replace('.', ' ') \n",
    "    if(Nombre_Calle_FT.find('Ñ')>=0):\n",
    "        Nombre_Calle_FT = Nombre_Calle.replace('Ñ', 'N')\n",
    "        \n",
    "    if(Nombre_Calle_FT.find('-')>=0):\n",
    "        Nombre_Calle_FT = Nombre_Calle_FT.split('-')\n",
    "        Nombre_Calle_FT = Nombre_Calle_FT[-1]\n",
    "        Nombre_Calle_FT = Nombre_Calle_FT.split()\n",
    "        Nombre_Calle_FT = ' '.join(Nombre_Calle_FT)\n",
    "        \n",
    "    # Take the first word of the name\n",
    "    Nombre_Calle_FT = Nombre_Calle_FT.split()\n",
    "    Nombre_Calle_FT.sort(key=len, reverse=True)\n",
    "    \n",
    "    # If name has more than three letters\n",
    "    if(len(Nombre_Calle_FT) >= 2):\n",
    "        Nombre_Calle_FT = Nombre_Calle_FT[0:1]\n",
    "        b = Calles[(Calles['NOMCALLE'].str.contains(Nombre_Calle_FT[0]))]['NOMCALLE'].unique()\n",
    "\n",
    "        if(len(b)==1):   # if one coincidence, set the value to this name \n",
    "            CallesNorm.loc[CallesNorm.Calle == Nombre_Calle, 'CALLE_NEW'] = b[0]\n",
    "            CallesNorm.loc[CallesNorm.Calle == Nombre_Calle, 'CALLE_STATE'] = 'Check'\n",
    "        elif(len(b)>1):   # if more than one coincidence, set the value to 'many'\n",
    "            CallesNorm.loc[CallesNorm.Calle == Nombre_Calle, 'CALLE_NEW'] = ' / '.join(list(b))\n",
    "            CallesNorm.loc[CallesNorm.Calle == Nombre_Calle, 'CALLE_STATE'] = 'Varios'\n",
    "        else:    # If no coincidence, set value to null string\n",
    "            CallesNorm.loc[CallesNorm.Calle == Nombre_Calle, 'CALLE_NEW'] = 'Nulo'\n",
    "            CallesNorm.loc[CallesNorm.Calle == Nombre_Calle, 'CALLE_STATE'] = 'Nulo'"
   ]
  },
  {
   "cell_type": "code",
   "execution_count": 30,
   "metadata": {},
   "outputs": [
    {
     "name": "stdout",
     "output_type": "stream",
     "text": [
      "Check: 110\n",
      "Nulls: 11\n",
      "Varios: 9\n"
     ]
    }
   ],
   "source": [
    "print('Check:', len(CallesNorm.loc[CallesNorm['CALLE_STATE'] == 'Check', 'Calle'].unique()))\n",
    "print('Nulls:', len(CallesNorm.loc[CallesNorm['CALLE_STATE'] == 'Nulo', 'Calle'].unique()))\n",
    "print('Varios:', len(CallesNorm.loc[CallesNorm['CALLE_STATE'] == 'Varios', 'Calle'].unique()))"
   ]
  },
  {
   "cell_type": "markdown",
   "metadata": {},
   "source": [
    "#### Search for second word names match"
   ]
  },
  {
   "cell_type": "code",
   "execution_count": 31,
   "metadata": {},
   "outputs": [],
   "source": [
    "# # Select the names of streets still not corrected\n",
    "# Nombres_Calles = CallesNorm.loc[CallesNorm.CALLE_NEW == 'Nulo', 'Calle'].unique()\n",
    "\n",
    "# # loop over them\n",
    "# for i in range(0, len(Nombres_Calles)):\n",
    "#     Nombre_Calle = Nombres_Calles[i]\n",
    "    \n",
    "#      # change Ñ by N\n",
    "#     if(Nombre_Calle.find('Ñ')>=0):\n",
    "#         Nombre_Calle = Nombre_Calle.replace('Ñ', 'N')\n",
    "#     Nombre_Calle_Inv = Nombre_Calle_Inv.replace(',', ' ')\n",
    "#     Nombre_Calle_Inv = Nombre_Calle_Inv.replace('.', ' ')\n",
    "    \n",
    "#     if (len(Nombre_Calle.split())>=2):\n",
    "#         Nombre_Calle_Inv = Nombre_Calle.split()[1]\n",
    "\n",
    "#         if(len(Nombre_Calle_Inv) >3):\n",
    "#             b = Calles[Calles['NOMCALLE'].str.contains(Nombre_Calle_Inv)]['NOMCALLE'].unique()\n",
    "\n",
    "#             if(len(b)==1):   # if one coincidence, set the value to this name \n",
    "#                 CallesNorm.loc[CallesNorm.Calle == Nombre_Calle, 'CALLE_NEW'] = b[0]\n",
    "#                 CallesNorm.loc[CallesNorm.Calle == Nombre_Calle, 'CALLE_STATE'] = 'Check'\n",
    "#             elif(len(b)>1):   # if more than one coincidence, set the value to 'many'\n",
    "#                 CallesNorm.loc[CallesNorm.Calle == Nombre_Calle, 'CALLE_NEW'] = ' / '.join(list(b))\n",
    "#                 CallesNorm.loc[CallesNorm.Calle == Nombre_Calle, 'CALLE_STATE'] = 'Varios'\n",
    "#             else:    # If no coincidence, set value to null string\n",
    "#                 CallesNorm.loc[CallesNorm.Calle == Nombre_Calle, 'CALLE_NEW'] = 'Nulo'\n",
    "#                 CallesNorm.loc[CallesNorm.Calle == Nombre_Calle, 'CALLE_STATE'] = 'Nulo'\n",
    "#         else:\n",
    "#             CallesNorm.loc[CallesNorm.Calle == Nombre_Calle, 'CALLE_NEW'] = 'Nulo'\n",
    "#             CallesNorm.loc[CallesNorm.Calle == Nombre_Calle, 'CALLE_STATE'] = 'Nulo'\n",
    "#     else:\n",
    "#         CallesNorm.loc[CallesNorm.Calle == Nombre_Calle, 'CALLE_NEW'] = 'Nulo'\n",
    "#         CallesNorm.loc[CallesNorm.Calle == Nombre_Calle, 'CALLE_STATE'] = 'Nulo'"
   ]
  },
  {
   "cell_type": "code",
   "execution_count": 32,
   "metadata": {
    "scrolled": true
   },
   "outputs": [],
   "source": [
    "# print('Check:', len(CallesNorm.loc[CallesNorm['CALLE_STATE'] == 'Check', 'Calle'].unique()))\n",
    "# print('Nulls:', len(CallesNorm.loc[CallesNorm['CALLE_STATE'] == 'Nulo', 'Calle'].unique()))\n",
    "# print('Varios:', len(CallesNorm.loc[CallesNorm['CALLE_STATE'] == 'Varios', 'Calle'].unique()))"
   ]
  },
  {
   "cell_type": "markdown",
   "metadata": {},
   "source": [
    "# Search for street's number names ('11' | '11 A')"
   ]
  },
  {
   "cell_type": "code",
   "execution_count": 33,
   "metadata": {},
   "outputs": [],
   "source": [
    "# Select the names of streets still not corrected\n",
    "Nombres_Calles = CallesNorm.loc[CallesNorm.CALLE_NEW == 'Nulo', 'Calle'].unique()\n",
    "\n",
    "# loop over them\n",
    "for i in range(0, len(Nombres_Calles)):\n",
    "    Nombre_Calle = Nombres_Calles[i]\n",
    "    Nombre_Calle_FT = Nombres_Calles[i]\n",
    "    \n",
    "    # take the number part\n",
    "    Nombre_Calle_FT = Nombre_Calle_FT.split()\n",
    "    Nombre_Calle_FT = Nombre_Calle_FT[0]\n",
    "    Nombre_Calle_FT = Nombre_Calle_FT.replace(' ', '')\n",
    "    \n",
    "    if ( Nombre_Calle_FT[0] == 'C' ):\n",
    "        Nombre_Calle_FT = Nombre_Calle_FT.replace('C', '')\n",
    "    \n",
    "    if (len(Nombre_Calle_FT)<6):\n",
    "        CallesNumeros = re.findall('\\d+', Nombre_Calle_FT )\n",
    "        \n",
    "        if( len(CallesNumeros) > 0 ):\n",
    "            CallesNumeros = CallesNumeros[0]\n",
    "        \n",
    "            if ( len(Nombre_Calle_FT) == len(CallesNumeros) ):\n",
    "                Nombre_Calle_FT = CallesNumeros\n",
    "            elif ( len(Nombre_Calle_FT) == len(CallesNumeros) + 1 ):\n",
    "                c = Nombre_Calle_FT[len(Nombre_Calle_FT)-1]\n",
    "                Nombre_Calle_FT = CallesNumeros+''+c\n",
    "\n",
    "            if(len(Calles.loc[Calles.NOMCALLE ==  Nombre_Calle_FT])!=0):\n",
    "                b = [Nombre_Calle_FT]\n",
    "            else:\n",
    "                b = Calles[Calles['NOMCALLE'].str.contains(Nombre_Calle_FT)]['NOMCALLE'].unique()\n",
    "\n",
    "            if(len(b)==1):   # if one coincidence, set the value to this name \n",
    "                CallesNorm.loc[CallesNorm.Calle == Nombre_Calle, 'CALLE_NEW'] = b[0]\n",
    "                CallesNorm.loc[CallesNorm.Calle == Nombre_Calle, 'CALLE_STATE'] = 'Check'\n",
    "            elif(len(b)>1):   # if more than one coincidence, set the value to 'many'\n",
    "                CallesNorm.loc[CallesNorm.Calle == Nombre_Calle, 'CALLE_NEW'] = ' / '.join(list(b))\n",
    "                CallesNorm.loc[CallesNorm.Calle == Nombre_Calle, 'CALLE_STATE'] = 'Varios'\n",
    "            else:    # If no coincidence, set value to null string\n",
    "                CallesNorm.loc[CallesNorm.Calle == Nombre_Calle, 'CALLE_NEW'] = 'Nulo'\n",
    "                CallesNorm.loc[CallesNorm.Calle == Nombre_Calle, 'CALLE_STATE'] = 'Nulo'"
   ]
  },
  {
   "cell_type": "code",
   "execution_count": 34,
   "metadata": {},
   "outputs": [
    {
     "name": "stdout",
     "output_type": "stream",
     "text": [
      "Check: 110\n",
      "Nulls: 11\n",
      "Varios: 9\n"
     ]
    }
   ],
   "source": [
    "print('Check:', len(CallesNorm.loc[CallesNorm['CALLE_STATE'] == 'Check', 'Calle'].unique()))\n",
    "print('Nulls:', len(CallesNorm.loc[CallesNorm['CALLE_STATE'] == 'Nulo', 'Calle'].unique()))\n",
    "print('Varios:', len(CallesNorm.loc[CallesNorm['CALLE_STATE'] == 'Varios', 'Calle'].unique()))"
   ]
  },
  {
   "cell_type": "markdown",
   "metadata": {},
   "source": [
    "# Errors"
   ]
  },
  {
   "cell_type": "code",
   "execution_count": 35,
   "metadata": {},
   "outputs": [
    {
     "data": {
      "text/plain": [
       "array(['COLOMBRES (ARENALES)', 'RUTA N 210 (H. YRIGOYEN)',\n",
       "       '12 DE OCTUBRE (EX 17 DE OCTUBR', 'LIBERTAD (DEWEY)',\n",
       "       'TRIUNVIRATO (R. WALSH)', 'PERON J. D., PTE.(BV.DE MAYO)',\n",
       "       'SERRANO ( LORENZO MIGUEL)', 'MAFFIA PEDRO (EX CONSTITUCION)'],\n",
       "      dtype=object)"
      ]
     },
     "execution_count": 35,
     "metadata": {},
     "output_type": "execute_result"
    }
   ],
   "source": [
    "CallesNorm.loc[CallesNorm['CALLE_STATE'] == 'Chequear', 'Calle'].unique()"
   ]
  },
  {
   "cell_type": "code",
   "execution_count": 36,
   "metadata": {},
   "outputs": [
    {
     "data": {
      "text/plain": [
       "array(['NECOCHEA', 'DEL PROGRESO', 'RAPALLINI', 'JAPON', 'O´HIGGINS',\n",
       "       'VITALLER', 'ALVARADO', 'FELS T.', 'GARAT', 'CUITIÑO MIGUEL',\n",
       "       'PARRAVICCINI F.'], dtype=object)"
      ]
     },
     "execution_count": 36,
     "metadata": {},
     "output_type": "execute_result"
    }
   ],
   "source": [
    "CallesNorm.loc[CallesNorm['CALLE_STATE'] == 'Nulo', 'Calle'].unique()"
   ]
  },
  {
   "cell_type": "code",
   "execution_count": 37,
   "metadata": {},
   "outputs": [
    {
     "data": {
      "text/plain": [
       "array(['ISABEL LA CATOLICA', '1 DE MAYO', 'QUIROGA', 'MITRE',\n",
       "       'AVELLANEDA', 'BV.DE MAYO', 'QUIROGA G.', 'PERON J. D., PTE.',\n",
       "       'OBLIGADO RAFAEL'], dtype=object)"
      ]
     },
     "execution_count": 37,
     "metadata": {},
     "output_type": "execute_result"
    }
   ],
   "source": [
    "CallesNorm.loc[CallesNorm['CALLE_STATE'] == 'Varios', 'Calle'].unique()"
   ]
  },
  {
   "cell_type": "code",
   "execution_count": 38,
   "metadata": {},
   "outputs": [],
   "source": [
    "CallesNorm.Numero = pd.to_numeric(CallesNorm.Numero, errors='coerce').astype('Int64')"
   ]
  },
  {
   "cell_type": "markdown",
   "metadata": {},
   "source": [
    "# Correction - Street´s Names to Check"
   ]
  },
  {
   "cell_type": "code",
   "execution_count": 64,
   "metadata": {},
   "outputs": [
    {
     "name": "stdout",
     "output_type": "stream",
     "text": [
      "8 / 8\n"
     ]
    },
    {
     "data": {
      "text/plain": [
       "'MAFFIA PEDRO (EX CONSTITUCION)'"
      ]
     },
     "execution_count": 64,
     "metadata": {},
     "output_type": "execute_result"
    }
   ],
   "source": [
    "x = x+1\n",
    "print(x+1, '/', len(CallesNorm.loc[CallesNorm['CALLE_STATE'] == 'Chequear', 'Calle'].unique()))\n",
    "CallesNorm.loc[CallesNorm['CALLE_STATE'] == 'Chequear', 'Calle'].unique()[x]"
   ]
  },
  {
   "cell_type": "code",
   "execution_count": 67,
   "metadata": {},
   "outputs": [
    {
     "data": {
      "text/plain": [
       "array(['PEDRO QUIROGA', 'SAN PEDRO'], dtype=object)"
      ]
     },
     "execution_count": 67,
     "metadata": {},
     "output_type": "execute_result"
    }
   ],
   "source": [
    "Calles[Calles['NOMCALLE'].str.contains('PEDRO')]['NOMCALLE'].unique()"
   ]
  },
  {
   "cell_type": "code",
   "execution_count": 60,
   "metadata": {},
   "outputs": [
    {
     "name": "stdout",
     "output_type": "stream",
     "text": [
      "[   0.  900.  700. 1350.  800. 1000.  400.  500. 1700. 1750. 1500.  600.\n",
      " 2700. 2300. 1400. 1100.]\n",
      "[400.   2. 200. 600. 102. 300. 500.]\n"
     ]
    }
   ],
   "source": [
    "print(Calles.loc[Calles.NOMCALLE == 'AVENIDA PRESIDENTE JUAN DOMINGO PERON', 'DESDDER'].unique())\n",
    "print(Calles.loc[Calles.NOMCALLE == 'BOULEVAR DE MAYO', 'DESDDER'].unique())"
   ]
  },
  {
   "cell_type": "code",
   "execution_count": 68,
   "metadata": {},
   "outputs": [],
   "source": [
    "CallesNorm.loc[(CallesNorm.Calle == 'COLOMBRES (ARENALES)'), 'CALLE_NEW'] = 'COLOMBRES'\n",
    "CallesNorm.loc[(CallesNorm.Calle == 'RUTA N 210 (H. YRIGOYEN)'), 'CALLE_NEW'] = 'RUTA PROVINCIAL 210'\n",
    "CallesNorm.loc[(CallesNorm.Calle == '12 DE OCTUBRE (EX 17 DE OCTUBR'), 'CALLE_NEW'] = '12 DE OCTUBRE'\n",
    "CallesNorm.loc[(CallesNorm.Calle == 'LIBERTAD (DEWEY)'), 'CALLE_NEW'] = 'LIBERTAD'\n",
    "CallesNorm.loc[(CallesNorm.Calle == 'TRIUNVIRATO (R. WALSH)'), 'CALLE_NEW'] = 'RODOLFO WALSH'\n",
    "CallesNorm.loc[(CallesNorm.Calle == 'PERON J. D., PTE.(BV.DE MAYO)'), 'CALLE_NEW'] = 'AVENIDA PRESIDENTE JUAN DOMINGO PERON'\n",
    "CallesNorm.loc[(CallesNorm.Calle == 'SERRANO ( LORENZO MIGUEL)'), 'CALLE_NEW'] = 'SERRANO'\n",
    "CallesNorm.loc[(CallesNorm.Calle == 'MAFFIA PEDRO (EX CONSTITUCION)'), 'CALLE_NEW'] = 'MAFFIA PEDRO'"
   ]
  },
  {
   "cell_type": "markdown",
   "metadata": {},
   "source": [
    "# Correction - Null Street´s Names"
   ]
  },
  {
   "cell_type": "code",
   "execution_count": 90,
   "metadata": {
    "scrolled": true
   },
   "outputs": [
    {
     "name": "stdout",
     "output_type": "stream",
     "text": [
      "11 / 11\n"
     ]
    },
    {
     "data": {
      "text/plain": [
       "'PARRAVICCINI F.'"
      ]
     },
     "execution_count": 90,
     "metadata": {},
     "output_type": "execute_result"
    }
   ],
   "source": [
    "x = x+1\n",
    "print(x+1, '/', len(CallesNorm.loc[CallesNorm['CALLE_STATE'] == 'Nulo', 'Calle'].unique()))\n",
    "CallesNorm.loc[CallesNorm['CALLE_STATE'] == 'Nulo', 'Calle'].unique()[x]"
   ]
  },
  {
   "cell_type": "code",
   "execution_count": 91,
   "metadata": {},
   "outputs": [
    {
     "data": {
      "text/plain": [
       "array(['LOS PARAISOS', 'FLORENCIO PARRAVICINI', 'PARIS', 'DEL PARNASO',\n",
       "       'MIGUEL ANGEL PARDO'], dtype=object)"
      ]
     },
     "execution_count": 91,
     "metadata": {},
     "output_type": "execute_result"
    }
   ],
   "source": [
    "Calles[Calles['NOMCALLE'].str.contains('PAR')]['NOMCALLE'].unique()"
   ]
  },
  {
   "cell_type": "code",
   "execution_count": 92,
   "metadata": {},
   "outputs": [],
   "source": [
    "CallesNorm.loc[(CallesNorm.Calle == 'O´HIGGINS'), 'CALLE_NEW'] = 'BERNARDO O HIGGINS'\n",
    "CallesNorm.loc[(CallesNorm.Calle == 'FELS T.'), 'CALLE_NEW'] = 'TEODORO FELD'\n",
    "CallesNorm.loc[(CallesNorm.Calle == 'GARAT'), 'CALLE_NEW'] = 'JUAN DE GARAY'\n",
    "CallesNorm.loc[(CallesNorm.Calle == 'CUITIÑO MIGUEL'), 'CALLE_NEW'] = 'MIGUEL CUTINO'\n",
    "CallesNorm.loc[(CallesNorm.Calle == 'PARRAVICCINI F.'), 'CALLE_NEW'] = 'FLORENCIO PARRAVICINI'"
   ]
  },
  {
   "cell_type": "markdown",
   "metadata": {},
   "source": [
    "# Correction - Street´s Names to Check"
   ]
  },
  {
   "cell_type": "code",
   "execution_count": 102,
   "metadata": {},
   "outputs": [
    {
     "name": "stdout",
     "output_type": "stream",
     "text": [
      "9 / 9\n",
      "OBLIGADO RAFAEL => Opciones: ['OBLIGADO / VUELTA DE OBLIGADO']\n"
     ]
    }
   ],
   "source": [
    "x = x+1\n",
    "print(x+1, '/', len(CallesNorm.loc[CallesNorm['CALLE_STATE'] == 'Varios', 'Calle'].unique()))\n",
    "NombreCalle = CallesNorm.loc[CallesNorm['CALLE_STATE'] == 'Varios', 'Calle'].unique()[x]\n",
    "print(NombreCalle, '=> Opciones:', CallesNorm.loc[CallesNorm.Calle == NombreCalle, 'CALLE_NEW'].unique())"
   ]
  },
  {
   "cell_type": "code",
   "execution_count": 162,
   "metadata": {},
   "outputs": [
    {
     "data": {
      "text/plain": [
       "array([], dtype=object)"
      ]
     },
     "execution_count": 162,
     "metadata": {},
     "output_type": "execute_result"
    }
   ],
   "source": [
    "Calles[Calles['NOMCALLE'].str.contains('407')]['NOMCALLE'].unique()"
   ]
  },
  {
   "cell_type": "code",
   "execution_count": 143,
   "metadata": {},
   "outputs": [
    {
     "name": "stdout",
     "output_type": "stream",
     "text": [
      "[600.]\n",
      "[0.00e+00 2.30e+03 1.15e+03 1.00e+03 2.00e+02 2.40e+03 2.00e+00]\n"
     ]
    }
   ],
   "source": [
    "print(Calles.loc[Calles.NOMCALLE == 'GUIDO SPANO', 'DESDDER'].unique())\n",
    "print(Calles.loc[Calles.NOMCALLE == 'GUIDO Y SPANO', 'DESDDER'].unique())"
   ]
  },
  {
   "cell_type": "code",
   "execution_count": 103,
   "metadata": {},
   "outputs": [],
   "source": [
    "CallesNorm.loc[(CallesNorm.Calle == 'ISABEL LA CATOLICA'), 'CALLE_NEW'] = 'ISABEL LA CATOLOCA'\n",
    "CallesNorm.loc[(CallesNorm.Calle == 'BV.DE MAYO'), 'CALLE_NEW'] = 'BOULEVAR DE MAYO'\n",
    "CallesNorm.loc[(CallesNorm.Calle == 'PERON J. D., PTE.'), 'CALLE_NEW'] = 'AVENIDA PRESIDENTE JUAN DOMINGO PERON'\n",
    "CallesNorm.loc[(CallesNorm.Calle == 'OBLIGADO RAFAEL'), 'CALLE_NEW'] = 'OBLIGADO'"
   ]
  },
  {
   "cell_type": "markdown",
   "metadata": {},
   "source": [
    "# Export File"
   ]
  },
  {
   "cell_type": "code",
   "execution_count": 104,
   "metadata": {},
   "outputs": [],
   "source": [
    "CallesNorm.to_csv('C:/Users/Compumar/Documents/Job/IGEO/2020 - Metrogas - Geocoder/TarifaSocial/SANVICENTE_nomatch.csv')"
   ]
  },
  {
   "cell_type": "markdown",
   "metadata": {},
   "source": [
    "# Street Check"
   ]
  },
  {
   "cell_type": "code",
   "execution_count": 105,
   "metadata": {},
   "outputs": [
    {
     "data": {
      "text/html": [
       "<div>\n",
       "<style scoped>\n",
       "    .dataframe tbody tr th:only-of-type {\n",
       "        vertical-align: middle;\n",
       "    }\n",
       "\n",
       "    .dataframe tbody tr th {\n",
       "        vertical-align: top;\n",
       "    }\n",
       "\n",
       "    .dataframe thead th {\n",
       "        text-align: right;\n",
       "    }\n",
       "</style>\n",
       "<table border=\"1\" class=\"dataframe\">\n",
       "  <thead>\n",
       "    <tr style=\"text-align: right;\">\n",
       "      <th></th>\n",
       "      <th>0</th>\n",
       "    </tr>\n",
       "  </thead>\n",
       "  <tbody>\n",
       "    <tr>\n",
       "      <th>0</th>\n",
       "      <td>CAMINO REAL</td>\n",
       "    </tr>\n",
       "    <tr>\n",
       "      <th>1</th>\n",
       "      <td>COLOMBRES (ARENALES)</td>\n",
       "    </tr>\n",
       "    <tr>\n",
       "      <th>2</th>\n",
       "      <td>MATHEU</td>\n",
       "    </tr>\n",
       "    <tr>\n",
       "      <th>3</th>\n",
       "      <td>RUTA N 210 (H. YRIGOYEN)</td>\n",
       "    </tr>\n",
       "    <tr>\n",
       "      <th>4</th>\n",
       "      <td>LAS HERAS</td>\n",
       "    </tr>\n",
       "    <tr>\n",
       "      <th>...</th>\n",
       "      <td>...</td>\n",
       "    </tr>\n",
       "    <tr>\n",
       "      <th>133</th>\n",
       "      <td>DON QUIJOTE</td>\n",
       "    </tr>\n",
       "    <tr>\n",
       "      <th>134</th>\n",
       "      <td>SANTO DOMINGO</td>\n",
       "    </tr>\n",
       "    <tr>\n",
       "      <th>135</th>\n",
       "      <td>MAFFIA PEDRO (EX CONSTITUCION)</td>\n",
       "    </tr>\n",
       "    <tr>\n",
       "      <th>136</th>\n",
       "      <td>CUITIÑO MIGUEL</td>\n",
       "    </tr>\n",
       "    <tr>\n",
       "      <th>137</th>\n",
       "      <td>PARRAVICCINI F.</td>\n",
       "    </tr>\n",
       "  </tbody>\n",
       "</table>\n",
       "<p>138 rows × 1 columns</p>\n",
       "</div>"
      ],
      "text/plain": [
       "                                  0\n",
       "0                       CAMINO REAL\n",
       "1              COLOMBRES (ARENALES)\n",
       "2                            MATHEU\n",
       "3          RUTA N 210 (H. YRIGOYEN)\n",
       "4                         LAS HERAS\n",
       "..                              ...\n",
       "133                     DON QUIJOTE\n",
       "134                   SANTO DOMINGO\n",
       "135  MAFFIA PEDRO (EX CONSTITUCION)\n",
       "136                  CUITIÑO MIGUEL\n",
       "137                 PARRAVICCINI F.\n",
       "\n",
       "[138 rows x 1 columns]"
      ]
     },
     "execution_count": 105,
     "metadata": {},
     "output_type": "execute_result"
    }
   ],
   "source": [
    "CallesCheck = pd.DataFrame(CallesNorm.Calle.unique())\n",
    "CallesCheck"
   ]
  },
  {
   "cell_type": "code",
   "execution_count": 106,
   "metadata": {},
   "outputs": [
    {
     "data": {
      "text/html": [
       "<div>\n",
       "<style scoped>\n",
       "    .dataframe tbody tr th:only-of-type {\n",
       "        vertical-align: middle;\n",
       "    }\n",
       "\n",
       "    .dataframe tbody tr th {\n",
       "        vertical-align: top;\n",
       "    }\n",
       "\n",
       "    .dataframe thead th {\n",
       "        text-align: right;\n",
       "    }\n",
       "</style>\n",
       "<table border=\"1\" class=\"dataframe\">\n",
       "  <thead>\n",
       "    <tr style=\"text-align: right;\">\n",
       "      <th></th>\n",
       "      <th>0</th>\n",
       "      <th>Asig</th>\n",
       "    </tr>\n",
       "  </thead>\n",
       "  <tbody>\n",
       "    <tr>\n",
       "      <th>0</th>\n",
       "      <td>CAMINO REAL</td>\n",
       "      <td>CAMINO REAL</td>\n",
       "    </tr>\n",
       "    <tr>\n",
       "      <th>1</th>\n",
       "      <td>COLOMBRES (ARENALES)</td>\n",
       "      <td>COLOMBRES</td>\n",
       "    </tr>\n",
       "    <tr>\n",
       "      <th>2</th>\n",
       "      <td>MATHEU</td>\n",
       "      <td>MATHEU</td>\n",
       "    </tr>\n",
       "    <tr>\n",
       "      <th>3</th>\n",
       "      <td>RUTA N 210 (H. YRIGOYEN)</td>\n",
       "      <td>RUTA PROVINCIAL 210</td>\n",
       "    </tr>\n",
       "    <tr>\n",
       "      <th>4</th>\n",
       "      <td>LAS HERAS</td>\n",
       "      <td>LAS HERAS</td>\n",
       "    </tr>\n",
       "    <tr>\n",
       "      <th>...</th>\n",
       "      <td>...</td>\n",
       "      <td>...</td>\n",
       "    </tr>\n",
       "    <tr>\n",
       "      <th>133</th>\n",
       "      <td>DON QUIJOTE</td>\n",
       "      <td>DON QUIJOTE</td>\n",
       "    </tr>\n",
       "    <tr>\n",
       "      <th>134</th>\n",
       "      <td>SANTO DOMINGO</td>\n",
       "      <td>SANTO DOMINGO</td>\n",
       "    </tr>\n",
       "    <tr>\n",
       "      <th>135</th>\n",
       "      <td>MAFFIA PEDRO (EX CONSTITUCION)</td>\n",
       "      <td>MAFFIA PEDRO</td>\n",
       "    </tr>\n",
       "    <tr>\n",
       "      <th>136</th>\n",
       "      <td>CUITIÑO MIGUEL</td>\n",
       "      <td>MIGUEL CUTINO</td>\n",
       "    </tr>\n",
       "    <tr>\n",
       "      <th>137</th>\n",
       "      <td>PARRAVICCINI F.</td>\n",
       "      <td>FLORENCIO PARRAVICINI</td>\n",
       "    </tr>\n",
       "  </tbody>\n",
       "</table>\n",
       "<p>138 rows × 2 columns</p>\n",
       "</div>"
      ],
      "text/plain": [
       "                                  0                   Asig\n",
       "0                       CAMINO REAL            CAMINO REAL\n",
       "1              COLOMBRES (ARENALES)              COLOMBRES\n",
       "2                            MATHEU                 MATHEU\n",
       "3          RUTA N 210 (H. YRIGOYEN)    RUTA PROVINCIAL 210\n",
       "4                         LAS HERAS              LAS HERAS\n",
       "..                              ...                    ...\n",
       "133                     DON QUIJOTE            DON QUIJOTE\n",
       "134                   SANTO DOMINGO          SANTO DOMINGO\n",
       "135  MAFFIA PEDRO (EX CONSTITUCION)           MAFFIA PEDRO\n",
       "136                  CUITIÑO MIGUEL          MIGUEL CUTINO\n",
       "137                 PARRAVICCINI F.  FLORENCIO PARRAVICINI\n",
       "\n",
       "[138 rows x 2 columns]"
      ]
     },
     "execution_count": 106,
     "metadata": {},
     "output_type": "execute_result"
    }
   ],
   "source": [
    "for i in range(0,len(CallesCheck)):\n",
    "    CallesCheck.loc[CallesCheck[0] == CallesCheck[0][i], 'Asig'] = CallesNorm.loc[CallesNorm.Calle == CallesCheck[0][i], 'CALLE_NEW'].unique()[0]\n",
    "CallesCheck"
   ]
  },
  {
   "cell_type": "code",
   "execution_count": 107,
   "metadata": {},
   "outputs": [],
   "source": [
    "CallesCheck.to_csv('C:/Users/Compumar/Documents/Job/IGEO/2020 - Metrogas - Geocoder/TarifaSocial/SANVICENTE_nomatch_NamesCheck.csv')"
   ]
  },
  {
   "cell_type": "code",
   "execution_count": null,
   "metadata": {},
   "outputs": [],
   "source": []
  }
 ],
 "metadata": {
  "kernelspec": {
   "display_name": "Python 3",
   "language": "python",
   "name": "python3"
  },
  "language_info": {
   "codemirror_mode": {
    "name": "ipython",
    "version": 3
   },
   "file_extension": ".py",
   "mimetype": "text/x-python",
   "name": "python",
   "nbconvert_exporter": "python",
   "pygments_lexer": "ipython3",
   "version": "3.7.8"
  }
 },
 "nbformat": 4,
 "nbformat_minor": 2
}
