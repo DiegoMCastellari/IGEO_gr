{
 "cells": [
  {
   "cell_type": "code",
   "execution_count": 1,
   "metadata": {},
   "outputs": [],
   "source": [
    "import pandas as pd\n",
    "import geopandas as gpd\n",
    "import fiona"
   ]
  },
  {
   "cell_type": "code",
   "execution_count": 2,
   "metadata": {},
   "outputs": [
    {
     "data": {
      "text/plain": [
       "['CABA']"
      ]
     },
     "execution_count": 2,
     "metadata": {},
     "output_type": "execute_result"
    }
   ],
   "source": [
    "fiona.listlayers('D:/JOB/IGEO/2020 - Metrogas - Geocoder/Prueba_CABA.gdb')"
   ]
  },
  {
   "cell_type": "code",
   "execution_count": 3,
   "metadata": {},
   "outputs": [
    {
     "data": {
      "text/html": [
       "<div>\n",
       "<style scoped>\n",
       "    .dataframe tbody tr th:only-of-type {\n",
       "        vertical-align: middle;\n",
       "    }\n",
       "\n",
       "    .dataframe tbody tr th {\n",
       "        vertical-align: top;\n",
       "    }\n",
       "\n",
       "    .dataframe thead th {\n",
       "        text-align: right;\n",
       "    }\n",
       "</style>\n",
       "<table border=\"1\" class=\"dataframe\">\n",
       "  <thead>\n",
       "    <tr style=\"text-align: right;\">\n",
       "      <th></th>\n",
       "      <th>NOM_CALLE</th>\n",
       "      <th>NOM_CALLE_1</th>\n",
       "      <th>TIPO_VIA</th>\n",
       "      <th>NOM_LOCALIDAD</th>\n",
       "      <th>NOM_BARRIO</th>\n",
       "      <th>Join_Count</th>\n",
       "      <th>NOMCALLE</th>\n",
       "      <th>NOMPAR</th>\n",
       "      <th>DESDDER</th>\n",
       "      <th>DESDIZQ</th>\n",
       "      <th>...</th>\n",
       "      <th>TIPVIA</th>\n",
       "      <th>PAR_DER</th>\n",
       "      <th>PAR_IZQ</th>\n",
       "      <th>PARTIDO</th>\n",
       "      <th>Shape_Length</th>\n",
       "      <th>Ini_X</th>\n",
       "      <th>Ini_Y</th>\n",
       "      <th>Fin_X</th>\n",
       "      <th>Fin_Y</th>\n",
       "      <th>geometry</th>\n",
       "    </tr>\n",
       "  </thead>\n",
       "  <tbody>\n",
       "    <tr>\n",
       "      <th>0</th>\n",
       "      <td>Francisco Pienovi</td>\n",
       "      <td></td>\n",
       "      <td>Avenida</td>\n",
       "      <td>Pineyro</td>\n",
       "      <td></td>\n",
       "      <td>0</td>\n",
       "      <td>None</td>\n",
       "      <td>None</td>\n",
       "      <td>NaN</td>\n",
       "      <td>NaN</td>\n",
       "      <td>...</td>\n",
       "      <td>None</td>\n",
       "      <td>Ciudad Aut. de Buenos Aires</td>\n",
       "      <td>Ciudad Aut. de Buenos Aires</td>\n",
       "      <td>None</td>\n",
       "      <td>85.595963</td>\n",
       "      <td>6.372743e+06</td>\n",
       "      <td>6.164134e+06</td>\n",
       "      <td>6.372737e+06</td>\n",
       "      <td>6.164219e+06</td>\n",
       "      <td>MULTILINESTRING ((6372743.366 6164134.067, 637...</td>\n",
       "    </tr>\n",
       "    <tr>\n",
       "      <th>1</th>\n",
       "      <td>Puente La Noria</td>\n",
       "      <td>None</td>\n",
       "      <td>Autopista</td>\n",
       "      <td>Villa Celina</td>\n",
       "      <td></td>\n",
       "      <td>2</td>\n",
       "      <td>GENERAL PAZ BAJADA</td>\n",
       "      <td>CIUDAD DE BUENOS AIRES</td>\n",
       "      <td>NaN</td>\n",
       "      <td>NaN</td>\n",
       "      <td>...</td>\n",
       "      <td>AVENIDA</td>\n",
       "      <td>La Matanza</td>\n",
       "      <td>La Matanza</td>\n",
       "      <td>None</td>\n",
       "      <td>96.227761</td>\n",
       "      <td>6.366120e+06</td>\n",
       "      <td>6.159079e+06</td>\n",
       "      <td>6.366043e+06</td>\n",
       "      <td>6.159137e+06</td>\n",
       "      <td>MULTILINESTRING ((6366119.823 6159079.067, 636...</td>\n",
       "    </tr>\n",
       "    <tr>\n",
       "      <th>2</th>\n",
       "      <td>Puente La Noria</td>\n",
       "      <td>None</td>\n",
       "      <td>Autopista</td>\n",
       "      <td>Villa Celina</td>\n",
       "      <td></td>\n",
       "      <td>1</td>\n",
       "      <td>GENERAL PAZ BAJADA</td>\n",
       "      <td>CIUDAD DE BUENOS AIRES</td>\n",
       "      <td>NaN</td>\n",
       "      <td>NaN</td>\n",
       "      <td>...</td>\n",
       "      <td>AVENIDA</td>\n",
       "      <td>Ciudad Aut. de Buenos Aires</td>\n",
       "      <td>Ciudad Aut. de Buenos Aires</td>\n",
       "      <td>None</td>\n",
       "      <td>92.067342</td>\n",
       "      <td>6.366098e+06</td>\n",
       "      <td>6.159206e+06</td>\n",
       "      <td>6.366173e+06</td>\n",
       "      <td>6.159152e+06</td>\n",
       "      <td>MULTILINESTRING ((6366098.432 6159205.705, 636...</td>\n",
       "    </tr>\n",
       "    <tr>\n",
       "      <th>3</th>\n",
       "      <td>Camino de la Ribera Norte</td>\n",
       "      <td>Coronel P. Aquino</td>\n",
       "      <td>Avenida</td>\n",
       "      <td>Villa Celina</td>\n",
       "      <td></td>\n",
       "      <td>0</td>\n",
       "      <td>None</td>\n",
       "      <td>None</td>\n",
       "      <td>NaN</td>\n",
       "      <td>NaN</td>\n",
       "      <td>...</td>\n",
       "      <td>None</td>\n",
       "      <td>La Matanza</td>\n",
       "      <td>La Matanza</td>\n",
       "      <td>None</td>\n",
       "      <td>97.155845</td>\n",
       "      <td>6.366032e+06</td>\n",
       "      <td>6.159098e+06</td>\n",
       "      <td>6.366066e+06</td>\n",
       "      <td>6.159188e+06</td>\n",
       "      <td>MULTILINESTRING ((6366032.072 6159098.465, 636...</td>\n",
       "    </tr>\n",
       "    <tr>\n",
       "      <th>4</th>\n",
       "      <td>General Paz</td>\n",
       "      <td>None</td>\n",
       "      <td>Autopista</td>\n",
       "      <td>Villa Celina</td>\n",
       "      <td></td>\n",
       "      <td>0</td>\n",
       "      <td>None</td>\n",
       "      <td>None</td>\n",
       "      <td>NaN</td>\n",
       "      <td>NaN</td>\n",
       "      <td>...</td>\n",
       "      <td>None</td>\n",
       "      <td>Ciudad Aut. de Buenos Aires</td>\n",
       "      <td>Ciudad Aut. de Buenos Aires</td>\n",
       "      <td>None</td>\n",
       "      <td>604.031699</td>\n",
       "      <td>6.365616e+06</td>\n",
       "      <td>6.159569e+06</td>\n",
       "      <td>6.366098e+06</td>\n",
       "      <td>6.159206e+06</td>\n",
       "      <td>MULTILINESTRING ((6365616.088 6159568.977, 636...</td>\n",
       "    </tr>\n",
       "  </tbody>\n",
       "</table>\n",
       "<p>5 rows × 22 columns</p>\n",
       "</div>"
      ],
      "text/plain": [
       "                   NOM_CALLE        NOM_CALLE_1   TIPO_VIA NOM_LOCALIDAD  \\\n",
       "0          Francisco Pienovi                       Avenida       Pineyro   \n",
       "1            Puente La Noria               None  Autopista  Villa Celina   \n",
       "2            Puente La Noria               None  Autopista  Villa Celina   \n",
       "3  Camino de la Ribera Norte  Coronel P. Aquino    Avenida  Villa Celina   \n",
       "4                General Paz               None  Autopista  Villa Celina   \n",
       "\n",
       "  NOM_BARRIO  Join_Count            NOMCALLE                  NOMPAR  DESDDER  \\\n",
       "0                      0                None                    None      NaN   \n",
       "1                      2  GENERAL PAZ BAJADA  CIUDAD DE BUENOS AIRES      NaN   \n",
       "2                      1  GENERAL PAZ BAJADA  CIUDAD DE BUENOS AIRES      NaN   \n",
       "3                      0                None                    None      NaN   \n",
       "4                      0                None                    None      NaN   \n",
       "\n",
       "   DESDIZQ  ...   TIPVIA                      PAR_DER  \\\n",
       "0      NaN  ...     None  Ciudad Aut. de Buenos Aires   \n",
       "1      NaN  ...  AVENIDA                   La Matanza   \n",
       "2      NaN  ...  AVENIDA  Ciudad Aut. de Buenos Aires   \n",
       "3      NaN  ...     None                   La Matanza   \n",
       "4      NaN  ...     None  Ciudad Aut. de Buenos Aires   \n",
       "\n",
       "                       PAR_IZQ PARTIDO Shape_Length         Ini_X  \\\n",
       "0  Ciudad Aut. de Buenos Aires    None    85.595963  6.372743e+06   \n",
       "1                   La Matanza    None    96.227761  6.366120e+06   \n",
       "2  Ciudad Aut. de Buenos Aires    None    92.067342  6.366098e+06   \n",
       "3                   La Matanza    None    97.155845  6.366032e+06   \n",
       "4  Ciudad Aut. de Buenos Aires    None   604.031699  6.365616e+06   \n",
       "\n",
       "          Ini_Y         Fin_X         Fin_Y  \\\n",
       "0  6.164134e+06  6.372737e+06  6.164219e+06   \n",
       "1  6.159079e+06  6.366043e+06  6.159137e+06   \n",
       "2  6.159206e+06  6.366173e+06  6.159152e+06   \n",
       "3  6.159098e+06  6.366066e+06  6.159188e+06   \n",
       "4  6.159569e+06  6.366098e+06  6.159206e+06   \n",
       "\n",
       "                                            geometry  \n",
       "0  MULTILINESTRING ((6372743.366 6164134.067, 637...  \n",
       "1  MULTILINESTRING ((6366119.823 6159079.067, 636...  \n",
       "2  MULTILINESTRING ((6366098.432 6159205.705, 636...  \n",
       "3  MULTILINESTRING ((6366032.072 6159098.465, 636...  \n",
       "4  MULTILINESTRING ((6365616.088 6159568.977, 636...  \n",
       "\n",
       "[5 rows x 22 columns]"
      ]
     },
     "execution_count": 3,
     "metadata": {},
     "output_type": "execute_result"
    }
   ],
   "source": [
    "CABA = gpd.read_file(\"D:/JOB/IGEO/2020 - Metrogas - Geocoder/Prueba_CABA.gdb\", driver='FileGDB', layer='CABA')\n",
    "CABA.head()"
   ]
  },
  {
   "cell_type": "markdown",
   "metadata": {},
   "source": [
    "# Calculate Coordinates"
   ]
  },
  {
   "cell_type": "code",
   "execution_count": null,
   "metadata": {},
   "outputs": [],
   "source": [
    "# for i in range(0,len(CABA)):    \n",
    "#     CABA.loc[i,'Ini_X'] = CABA['geometry'][i][0].coords[0][0]\n",
    "#     CABA.loc[i,'Ini_Y'] = CABA['geometry'][i][0].coords[0][1]\n",
    "#     CABA.loc[i,'Fin_X'] = CABA['geometry'][i][0].coords[1][0]\n",
    "#     CABA.loc[i,'Fin_Y'] = CABA['geometry'][i][0].coords[1][1]\n",
    "# CABA.head()"
   ]
  },
  {
   "cell_type": "markdown",
   "metadata": {},
   "source": [
    "# Null Values - Street Lenght"
   ]
  },
  {
   "cell_type": "code",
   "execution_count": 4,
   "metadata": {},
   "outputs": [
    {
     "name": "stdout",
     "output_type": "stream",
     "text": [
      "Calles sin datos de altura: 8736\n",
      "Calles con datos de altura: 20166\n"
     ]
    }
   ],
   "source": [
    "Direcctions = CABA.loc[(CABA.DESDDER.notnull()) & (CABA.DESDIZQ.notnull()) & (CABA.HASTDER.notnull()) & (CABA.HASTIZQ.notnull())]\n",
    "Direcctions_Count = len(Direcctions)\n",
    "print(\"Calles sin datos de altura:\", len(CABA)-Direcctions_Count)\n",
    "print(\"Calles con datos de altura:\", Direcctions_Count)"
   ]
  },
  {
   "cell_type": "code",
   "execution_count": 5,
   "metadata": {},
   "outputs": [
    {
     "name": "stdout",
     "output_type": "stream",
     "text": [
      "Cantidad de calles: 1999\n"
     ]
    }
   ],
   "source": [
    "Calles = CABA.loc[CABA.DESDDER.notnull()]\n",
    "NombreCalles = Calles.NOM_CALLE.unique()\n",
    "print(\"Cantidad de calles:\", len(NombreCalles))"
   ]
  },
  {
   "cell_type": "markdown",
   "metadata": {},
   "source": [
    "## Checking Street's Direction Number  "
   ]
  },
  {
   "cell_type": "code",
   "execution_count": 6,
   "metadata": {},
   "outputs": [
    {
     "data": {
      "text/plain": [
       "0    20166\n",
       "1     8736\n",
       "Name: NullDir, dtype: int64"
      ]
     },
     "execution_count": 6,
     "metadata": {},
     "output_type": "execute_result"
    }
   ],
   "source": [
    "CABA['NullDir'] = 0\n",
    "CABA.loc[CABA.DESDDER.isnull(), 'NullDir'] = 1\n",
    "CABA.NullDir.value_counts()"
   ]
  },
  {
   "cell_type": "code",
   "execution_count": 7,
   "metadata": {},
   "outputs": [],
   "source": [
    "CallesAnalise = CABA"
   ]
  },
  {
   "cell_type": "code",
   "execution_count": 10,
   "metadata": {},
   "outputs": [
    {
     "data": {
      "text/plain": [
       "0    20166\n",
       "5     8736\n",
       "Name: CheckAnt, dtype: int64"
      ]
     },
     "execution_count": 10,
     "metadata": {},
     "output_type": "execute_result"
    }
   ],
   "source": [
    "CABA['CheckAnt'] = 0\n",
    "CABA['CheckSig'] = 0\n",
    "CABA.loc[CABA.DESDDER.isnull(), 'CheckAnt'] = 5\n",
    "CABA.loc[CABA.DESDDER.isnull(), 'CheckSig'] = 5\n",
    "CABA.CheckAnt.value_counts()"
   ]
  },
  {
   "cell_type": "code",
   "execution_count": 19,
   "metadata": {},
   "outputs": [],
   "source": [
    "for l in range(0, len(CallesAnalise)):\n",
    "    \n",
    "    # Check Null\n",
    "    NullValue = CallesAnalise.loc[l, 'NullDir']    \n",
    "    \n",
    "    # If is not a Null Value\n",
    "    if(NullValue == 0):\n",
    "        \n",
    "        # Street Name and Numbers\n",
    "        NombreDeCalle = CallesAnalise.loc[l, 'NOM_CALLE']\n",
    "        DireccionInicio = CallesAnalise.loc[l, 'DESDIZQ']\n",
    "        DireccionFin = CallesAnalise.loc[l, 'HASTDER']\n",
    "        # Up and down street number\n",
    "        DireccionAnt = DireccionInicio - 1\n",
    "        DireccionSig = DireccionFin + 1\n",
    "        \n",
    "        # Get line coordinates\n",
    "        Calle_Inicio_X = CallesAnalise.loc[l, 'Ini_X']\n",
    "        Calle_Inicio_Y = CallesAnalise.loc[l, 'Ini_Y']\n",
    "        Calle_Fin_X = CallesAnalise.loc[l, 'Fin_X']\n",
    "        Calle_Fin_Y = CallesAnalise.loc[l, 'Fin_Y']\n",
    "        \n",
    "        # Search Down street \n",
    "        # If there´s a street\n",
    "        if(len(CallesAnalise.loc[(CallesAnalise.NOM_CALLE == NombreDeCalle) & (CallesAnalise.HASTDER == DireccionAnt), 'Fin_X']) != 0):\n",
    "            \n",
    "            # null number value in down street \n",
    "            Calle_Value = list(CallesAnalise.loc[(CallesAnalise.NOM_CALLE == NombreDeCalle) & (CallesAnalise.HASTDER == DireccionAnt), 'NullDir'])[0]\n",
    "            \n",
    "            # if not null number direction\n",
    "            if(Calle_Value == 0):\n",
    "                # get end coordinates\n",
    "                CalleAntX = list(CallesAnalise.loc[(CallesAnalise.NOM_CALLE == NombreDeCalle) & (CallesAnalise.HASTDER == DireccionAnt), 'Fin_X'])[0]\n",
    "                CalleAntY = list(CallesAnalise.loc[(CallesAnalise.NOM_CALLE == NombreDeCalle) & (CallesAnalise.HASTDER == DireccionAnt), 'Fin_Y'])[0]\n",
    "                \n",
    "                # Coordinate Diference\n",
    "                AntX_dif = abs(Calle_Inicio_X - CalleAntX)\n",
    "                AntY_dif = abs(Calle_Inicio_Y - CalleAntY)\n",
    "                \n",
    "                # if down street end coord similar to actual street start coord => value = 0\n",
    "                if((AntX_dif < 0.1) & (AntY_dif < 0.1)):\n",
    "                    CallesAnalise.loc[l, 'CheckAnt'] = 0\n",
    "                else:\n",
    "                    CallesAnalise.loc[l, 'CheckAnt'] = 1    # if diferent => value = 1\n",
    "            # if null down value, set check to 0 (no error)\n",
    "            else:\n",
    "                CallesAnalise.loc[l, 'CheckAnt'] = 0\n",
    "            \n",
    "        \n",
    "        # If there´s no down street => value = 0\n",
    "        else: \n",
    "            CallesAnalise.loc[l, 'CheckAnt'] = 0\n",
    "            \n",
    "        # Calculate Up street coordinates\n",
    "        if(len(CallesAnalise.loc[(CallesAnalise.NOM_CALLE == NombreDeCalle) & (CallesAnalise.DESDIZQ == DireccionSig), 'Ini_X']) != 0):\n",
    "            \n",
    "            # null number value in up street \n",
    "            Calle_Value = list(CallesAnalise.loc[(CallesAnalise.NOM_CALLE == NombreDeCalle) & (CallesAnalise.DESDIZQ == DireccionSig), 'NullDir'])[0]\n",
    "            \n",
    "            # if not null number direction\n",
    "            if(Calle_Value == 0):\n",
    "                # Get Coord\n",
    "                CalleSigX = list(CallesAnalise.loc[(CallesAnalise.NOM_CALLE == NombreDeCalle) & (CallesAnalise.DESDIZQ == DireccionSig), 'Ini_X'])[0]\n",
    "                CalleSigY = list(CallesAnalise.loc[(CallesAnalise.NOM_CALLE == NombreDeCalle) & (CallesAnalise.DESDIZQ == DireccionSig), 'Ini_Y'])[0]\n",
    "\n",
    "                # Coordinate Diference\n",
    "                SigX_dif = abs(Calle_Fin_X - CalleSigX)\n",
    "                SigY_dif = abs(Calle_Fin_Y - CalleSigY)\n",
    "                \n",
    "                # if down street end coord similar to actual street start coord => value = 0\n",
    "                if((SigX_dif < 0.1) & (SigY_dif < 0.1)):\n",
    "                    CallesAnalise.loc[l, 'CheckSig'] = 0\n",
    "                else:\n",
    "                    CallesAnalise.loc[l, 'CheckSig'] = 1    # if diferent => value = 1\n",
    "            # if null up value, set check to 0 (no error)\n",
    "            else:\n",
    "                CallesAnalise.loc[l, 'CheckSig'] = 0\n",
    "            \n",
    "        # If there´s no up street => value = 0\n",
    "        else:\n",
    "            CallesAnalise.loc[l, 'CheckSig'] = 0   \n",
    "        \n",
    "    # Null values get value = 5\n",
    "    else:\n",
    "        CallesAnalise.loc[l, 'CheckAnt'] = 5\n",
    "        CallesAnalise.loc[l, 'CheckSig'] = 5"
   ]
  },
  {
   "cell_type": "code",
   "execution_count": 20,
   "metadata": {},
   "outputs": [
    {
     "data": {
      "text/plain": [
       "0    16550\n",
       "5     8736\n",
       "1     3046\n",
       "2      570\n",
       "Name: Check, dtype: int64"
      ]
     },
     "execution_count": 20,
     "metadata": {},
     "output_type": "execute_result"
    }
   ],
   "source": [
    "CallesAnalise['Check'] = CallesAnalise['CheckAnt'] + CallesAnalise['CheckSig']\n",
    "CallesAnalise.loc[CallesAnalise.Check > 6, 'Check'] = 5\n",
    "CallesAnalise.Check.value_counts()"
   ]
  },
  {
   "cell_type": "code",
   "execution_count": null,
   "metadata": {},
   "outputs": [],
   "source": [
    "# Coord == \n",
    "# 0    16354\n",
    "# 5     8736\n",
    "# 1     3185\n",
    "# 2      627\n",
    "\n",
    "# Coord similar\n",
    "# 0    16550\n",
    "# 5     8736\n",
    "# 1     3046\n",
    "# 2      570"
   ]
  },
  {
   "cell_type": "code",
   "execution_count": 21,
   "metadata": {},
   "outputs": [],
   "source": [
    "CallesAnalise.to_file(\"D:/JOB/IGEO/2020 - Metrogas - Geocoder/CABA_Checked.geojson\", driver='GeoJSON') "
   ]
  },
  {
   "cell_type": "code",
   "execution_count": null,
   "metadata": {},
   "outputs": [],
   "source": []
  },
  {
   "cell_type": "code",
   "execution_count": null,
   "metadata": {},
   "outputs": [],
   "source": []
  },
  {
   "cell_type": "code",
   "execution_count": null,
   "metadata": {},
   "outputs": [],
   "source": []
  },
  {
   "cell_type": "code",
   "execution_count": null,
   "metadata": {},
   "outputs": [],
   "source": []
  },
  {
   "cell_type": "code",
   "execution_count": null,
   "metadata": {},
   "outputs": [],
   "source": []
  },
  {
   "cell_type": "code",
   "execution_count": null,
   "metadata": {},
   "outputs": [],
   "source": []
  },
  {
   "cell_type": "code",
   "execution_count": null,
   "metadata": {},
   "outputs": [],
   "source": []
  },
  {
   "cell_type": "code",
   "execution_count": null,
   "metadata": {},
   "outputs": [],
   "source": [
    "print(Calles.loc[(Calles.NOM_CALLE == NombreCalles[0]) & (Calles.DESDIZQ == DireccionFin+1), 'Ini_X'])\n",
    "print(Calles.loc[(Calles.NOM_CALLE == NombreCalles[0]) & (Calles.DESDIZQ == DireccionFin+1), 'Ini_Y'])"
   ]
  },
  {
   "cell_type": "code",
   "execution_count": null,
   "metadata": {},
   "outputs": [],
   "source": [
    "CalleSigX"
   ]
  },
  {
   "cell_type": "code",
   "execution_count": null,
   "metadata": {},
   "outputs": [],
   "source": [
    "Calles.info()"
   ]
  },
  {
   "cell_type": "code",
   "execution_count": null,
   "metadata": {},
   "outputs": [],
   "source": []
  }
 ],
 "metadata": {
  "kernelspec": {
   "display_name": "Python 3",
   "language": "python",
   "name": "python3"
  },
  "language_info": {
   "codemirror_mode": {
    "name": "ipython",
    "version": 3
   },
   "file_extension": ".py",
   "mimetype": "text/x-python",
   "name": "python",
   "nbconvert_exporter": "python",
   "pygments_lexer": "ipython3",
   "version": "3.7.4"
  }
 },
 "nbformat": 4,
 "nbformat_minor": 2
}
